{
 "cells": [
  {
   "cell_type": "markdown",
   "metadata": {},
   "source": [
    "# CAP 6618 - Machine Learning for Computer Vision"
   ]
  },
  {
   "cell_type": "markdown",
   "metadata": {},
   "source": [
    "## Project 1: Digit Classification Using Machine Learning\n",
    "Design and implement a complete solution to the problem of handwritten digit recognition, stated as follows: “given an image of a handwritten digit, produce the corresponding numerical value.” Essentially, you will build, fine-tune, and evaluate a 10-class classifier which will employ the pixel values of the images as features.\n",
    "DO NOT use Neural Network (next project)"
   ]
  },
  {
   "cell_type": "markdown",
   "metadata": {},
   "source": [
    "### Educational Objectives\n",
    "* Learn how to implement a Machine Learning workflow in Python (using scikit-learn, matplotlib, and numpy)\n",
    "* Get acquainted with representative contemporary datasets and problems in image analysis and machine learning\n",
    "* Learn how to implement a machine learning model in Python (using scikit-learn, matplotlib, and numpy)\n",
    "* Learn how to evaluate and fine-tune the performance of a model using cross-validation\n",
    "* Learn how to test a model and produce a set of plots, performance measures, and results that can be compared against other groups / classmates"
   ]
  },
  {
   "cell_type": "markdown",
   "metadata": {},
   "source": [
    "# Step 1: Setup"
   ]
  },
  {
   "cell_type": "code",
   "execution_count": 1,
   "metadata": {},
   "outputs": [],
   "source": [
    "# To support both python 2 and python 3\n",
    "from __future__ import division, print_function, unicode_literals\n",
    "\n",
    "# Common imports\n",
    "import numpy as np\n",
    "import os\n",
    "\n",
    "# To make this notebook's output stable across runs\n",
    "np.random.seed(42)\n",
    "\n",
    "# To plot pretty figures\n",
    "%matplotlib inline\n",
    "import matplotlib\n",
    "import matplotlib.pyplot as plt\n",
    "plt.rcParams['axes.labelsize'] = 14\n",
    "plt.rcParams['xtick.labelsize'] = 12\n",
    "plt.rcParams['ytick.labelsize'] = 12"
   ]
  },
  {
   "cell_type": "markdown",
   "metadata": {},
   "source": [
    "### Shared Methods"
   ]
  },
  {
   "cell_type": "code",
   "execution_count": 2,
   "metadata": {},
   "outputs": [],
   "source": [
    "# Where to save the figures\n",
    "PROJECT_ROOT_DIR = \".\"\n",
    "CHAPTER_ID = \"classification\"\n",
    "\n",
    "def save_fig(fig_id, tight_layout=True):\n",
    "    \"\"\" Method to save figures to your local computer\"\"\"\n",
    "    image_dir = os.path.join(PROJECT_ROOT_DIR, \"images\", CHAPTER_ID)\n",
    "    if not os.path.exists(image_dir):\n",
    "        os.makedirs(image_dir)\n",
    "\n",
    "    path = os.path.join(image_dir, fig_id + \".png\")\n",
    "    print(\"Saving figure\", fig_id)\n",
    "    if tight_layout:\n",
    "        plt.tight_layout()\n",
    "    plt.savefig(path, format='png', dpi=300)"
   ]
  },
  {
   "cell_type": "code",
   "execution_count": 3,
   "metadata": {},
   "outputs": [],
   "source": [
    "def plot_confusion_matrix(matrix):\n",
    "    \"\"\" Method to plot confusion matrix\"\"\"\n",
    "    fig = plt.figure(figsize=(8,8))\n",
    "    ax = fig.add_subplot(111)\n",
    "    cax = ax.matshow(matrix)\n",
    "    fig.colorbar(cax)"
   ]
  },
  {
   "cell_type": "code",
   "execution_count": 4,
   "metadata": {},
   "outputs": [],
   "source": [
    "def plot_digits(instances, images_per_row=10, **options):\n",
    "    \"\"\" Method to plot sample digits\"\"\"\n",
    "    size = 28\n",
    "    \n",
    "    # If there are instances, plot them\n",
    "    if(len(instances)):\n",
    "        images_per_row = min(len(instances), images_per_row)\n",
    "        images = [instance.reshape(size,size) for instance in instances]\n",
    "        n_rows = (len(instances) - 1) // images_per_row + 1\n",
    "        row_images = []\n",
    "        n_empty = n_rows * images_per_row - len(instances)\n",
    "        images.append(np.zeros((size, size * n_empty)))\n",
    "        for row in range(n_rows):\n",
    "            rimages = images[row * images_per_row : (row + 1) * images_per_row]\n",
    "            row_images.append(np.concatenate(rimages, axis=1))\n",
    "        image = np.concatenate(row_images, axis=0)\n",
    "        plt.imshow(image, cmap = matplotlib.cm.binary, **options)\n",
    "    # Else, plot an empty plot\n",
    "    else:\n",
    "        empty_array = np.zeros((5, 5))\n",
    "        plt.imshow(empty_array, cmap = matplotlib.cm.binary, **options)\n",
    "    \n",
    "    plt.axis(\"off\")"
   ]
  },
  {
   "cell_type": "markdown",
   "metadata": {},
   "source": [
    "# Step 2: Load the MNIST dataset"
   ]
  },
  {
   "cell_type": "code",
   "execution_count": 5,
   "metadata": {},
   "outputs": [],
   "source": [
    "def sort_by_target(mnist):\n",
    "    \"\"\" Method to sort the MNIST if load using fetch_openml\"\"\"\n",
    "    reorder_train = np.array(sorted([(target, i) for i, target in enumerate(mnist.target[:60000])]))[:, 1]\n",
    "    reorder_test = np.array(sorted([(target, i) for i, target in enumerate(mnist.target[60000:])]))[:, 1]\n",
    "    mnist.data[:60000] = mnist.data[reorder_train]\n",
    "    mnist.target[:60000] = mnist.target[reorder_train]\n",
    "    mnist.data[60000:] = mnist.data[reorder_test + 60000]\n",
    "    mnist.target[60000:] = mnist.target[reorder_test + 60000]"
   ]
  },
  {
   "cell_type": "code",
   "execution_count": 6,
   "metadata": {},
   "outputs": [],
   "source": [
    "# https://scikit-learn.org/stable/modules/generated/sklearn.datasets.fetch_openml.html\n",
    "# https://scikit-learn.org/0.19/datasets/mldata.html\n",
    "\n",
    "try:\n",
    "    from sklearn.datasets import fetch_openml\n",
    "    mnist = fetch_openml('mnist_784', version=1, cache=True)\n",
    "    mnist.target = mnist.target.astype(np.int8)    # fetch_openml() returns targets as strings\n",
    "    sort_by_target(mnist)                          # fetch_openml() returns an unsorted dataset\n",
    "except ImportError:\n",
    "    from sklearn.datasets import fetch_mldata\n",
    "    mnist = fetch_mldata('MNIST original')\n",
    "    mnist[\"data\"], mnist[\"target\"]"
   ]
  },
  {
   "cell_type": "code",
   "execution_count": 7,
   "metadata": {},
   "outputs": [
    {
     "data": {
      "text/plain": [
       "(70000, 784)"
      ]
     },
     "execution_count": 7,
     "metadata": {},
     "output_type": "execute_result"
    }
   ],
   "source": [
    "mnist.data.shape"
   ]
  },
  {
   "cell_type": "code",
   "execution_count": 8,
   "metadata": {},
   "outputs": [],
   "source": [
    "# X is the digit image and y is the class label\n",
    "X, y = mnist[\"data\"], mnist[\"target\"]"
   ]
  },
  {
   "cell_type": "markdown",
   "metadata": {},
   "source": [
    "# Step 3: Visualize the MNIST dataset"
   ]
  },
  {
   "cell_type": "code",
   "execution_count": 9,
   "metadata": {},
   "outputs": [
    {
     "data": {
      "text/plain": [
       "(70000, 784)"
      ]
     },
     "execution_count": 9,
     "metadata": {},
     "output_type": "execute_result"
    }
   ],
   "source": [
    "X.shape"
   ]
  },
  {
   "cell_type": "code",
   "execution_count": 10,
   "metadata": {},
   "outputs": [
    {
     "data": {
      "text/plain": [
       "(70000,)"
      ]
     },
     "execution_count": 10,
     "metadata": {},
     "output_type": "execute_result"
    }
   ],
   "source": [
    "y.shape"
   ]
  },
  {
   "cell_type": "code",
   "execution_count": 11,
   "metadata": {},
   "outputs": [
    {
     "name": "stdout",
     "output_type": "stream",
     "text": [
      "Saving figure digit_sample_plot\n"
     ]
    },
    {
     "data": {
      "image/png": "[encoded data removed]",
      "text/plain": [
       "<Figure size 432x288 with 1 Axes>"
      ]
     },
     "metadata": {
      "needs_background": "light"
     },
     "output_type": "display_data"
    }
   ],
   "source": [
    "# Plot a random digit sample\n",
    "some_digit_index = 40000\n",
    "some_digit = X[some_digit_index]\n",
    "some_digit_image = some_digit.reshape(28, 28)\n",
    "plt.imshow(some_digit_image, cmap = matplotlib.cm.binary, interpolation=\"nearest\")\n",
    "\n",
    "plt.title(\"Digit Sample Plot\")\n",
    "#plt.axis(\"off\")\n",
    "\n",
    "save_fig(\"digit_sample_plot\")\n",
    "plt.show()"
   ]
  },
  {
   "cell_type": "code",
   "execution_count": 12,
   "metadata": {},
   "outputs": [
    {
     "name": "stdout",
     "output_type": "stream",
     "text": [
      "The ground truth label for the sample digit above is:  6\n"
     ]
    }
   ],
   "source": [
    "# Print the sample digit's label\n",
    "print('The ground truth label for the sample digit above is: ', y[some_digit_index])"
   ]
  },
  {
   "cell_type": "markdown",
   "metadata": {},
   "source": [
    "# Step 4: Split the dataset"
   ]
  },
  {
   "cell_type": "code",
   "execution_count": 13,
   "metadata": {},
   "outputs": [],
   "source": [
    "# Split dataset\n",
    "X_train, X_test, y_train, y_test = X[:60000], X[60000:], y[:60000], y[60000:]"
   ]
  },
  {
   "cell_type": "code",
   "execution_count": 14,
   "metadata": {},
   "outputs": [],
   "source": [
    "# Random shuffle\n",
    "shuffle_index = np.random.permutation(60000)\n",
    "X_train, y_train = X_train[shuffle_index], y_train[shuffle_index]"
   ]
  },
  {
   "cell_type": "markdown",
   "metadata": {},
   "source": [
    "# Step 5: Classification using the SGD Classifier with Default Parameters"
   ]
  },
  {
   "cell_type": "code",
   "execution_count": 15,
   "metadata": {},
   "outputs": [
    {
     "data": {
      "text/plain": [
       "SGDClassifier(alpha=0.0001, average=False, class_weight=None,\n",
       "       early_stopping=False, epsilon=0.1, eta0=0.0, fit_intercept=True,\n",
       "       l1_ratio=0.15, learning_rate='optimal', loss='hinge', max_iter=15,\n",
       "       n_iter=None, n_iter_no_change=5, n_jobs=None, penalty='l1',\n",
       "       power_t=0.5, random_state=42, shuffle=True, tol=-inf,\n",
       "       validation_fraction=0.1, verbose=0, warm_start=False)"
      ]
     },
     "execution_count": 15,
     "metadata": {},
     "output_type": "execute_result"
    }
   ],
   "source": [
    "# https://scikit-learn.org/stable/modules/generated/sklearn.linear_model.SGDClassifier.html\n",
    "from sklearn.linear_model import SGDClassifier\n",
    "\n",
    "# SGD Classifier\n",
    "sgd_clf = SGDClassifier(max_iter=15, tol=-np.infty, random_state=42, penalty=\"l1\")\n",
    "sgd_clf.fit(X_train, y_train)\n",
    "\n",
    "# Note:\n",
    "# 1. Required to set 'tol' if set 'max_iter' (Warning)\n",
    "# 2. Set 'random_state' since shuffling is True by default\n",
    "# 3. Set 'pentalty' to l1 to shrinks model parameters towards the zero vector with absolute norm L1 "
   ]
  },
  {
   "cell_type": "code",
   "execution_count": 16,
   "metadata": {},
   "outputs": [
    {
     "name": "stdout",
     "output_type": "stream",
     "text": [
      "The predicted class for the sample digit is 6\n"
     ]
    }
   ],
   "source": [
    "# Test the model by making a prediction the sample digit\n",
    "some_digit_predicted = sgd_clf.predict([some_digit])\n",
    "print(\"The predicted class for the sample digit is\",some_digit_predicted[0])"
   ]
  },
  {
   "cell_type": "code",
   "execution_count": 17,
   "metadata": {},
   "outputs": [
    {
     "data": {
      "text/plain": [
       "array([[-19707756.95723801, -40340406.45555584,  -4204954.47451782,\n",
       "         -5299245.4437812 , -11186924.64560927,  -5665610.53771423,\n",
       "          1229707.86536847, -15253415.95343225,  -4345059.79330357,\n",
       "         -6642277.3408977 ]])"
      ]
     },
     "execution_count": 17,
     "metadata": {},
     "output_type": "execute_result"
    }
   ],
   "source": [
    "# Inspect decision function\n",
    "some_digit_scores = sgd_clf.decision_function([some_digit])\n",
    "some_digit_scores"
   ]
  },
  {
   "cell_type": "code",
   "execution_count": 18,
   "metadata": {},
   "outputs": [
    {
     "data": {
      "text/plain": [
       "6"
      ]
     },
     "execution_count": 18,
     "metadata": {},
     "output_type": "execute_result"
    }
   ],
   "source": [
    "# Select (the index of the) max value among scores\n",
    "np.argmax(some_digit_scores)"
   ]
  },
  {
   "cell_type": "code",
   "execution_count": 19,
   "metadata": {},
   "outputs": [
    {
     "data": {
      "text/plain": [
       "array([0.89117177, 0.89049452, 0.88608291])"
      ]
     },
     "execution_count": 19,
     "metadata": {},
     "output_type": "execute_result"
    }
   ],
   "source": [
    "# https://scikit-learn.org/stable/modules/generated/sklearn.model_selection.cross_val_score.html\n",
    "\n",
    "# Evaluate a score by cross-validation\n",
    "from sklearn.model_selection import cross_val_score\n",
    "cross_val_score(sgd_clf, X_train, y_train, cv=3, scoring=\"accuracy\")"
   ]
  },
  {
   "cell_type": "code",
   "execution_count": 20,
   "metadata": {},
   "outputs": [
    {
     "data": {
      "text/plain": [
       "array([[5662,    0,   30,   18,    9,   18,   30,    5,  139,   12],\n",
       "       [   2, 6449,   49,   21,    6,   23,    9,    8,  151,   24],\n",
       "       [  45,   60, 5202,  126,   58,   25,   95,   64,  268,   15],\n",
       "       [  33,   27,  198, 5213,   10,  171,   18,   50,  328,   83],\n",
       "       [  17,   19,   56,   23, 5280,   25,   34,   21,  179,  188],\n",
       "       [  76,   20,   44,  243,   65, 4333,  131,   16,  423,   70],\n",
       "       [  36,   13,   58,   16,   35,   83, 5555,    6,  116,    0],\n",
       "       [  34,   16,   75,   33,   51,   15,    6, 5661,  108,  266],\n",
       "       [  42,   72,  117,  183,   41,  215,   44,   20, 4981,  136],\n",
       "       [  28,   41,   18,   76,  245,   70,    1,  207,  244, 5019]],\n",
       "      dtype=int64)"
      ]
     },
     "execution_count": 20,
     "metadata": {},
     "output_type": "execute_result"
    }
   ],
   "source": [
    "# https://scikit-learn.org/stable/modules/generated/sklearn.model_selection.cross_val_predict.html\n",
    "# https://scikit-learn.org/stable/modules/generated/sklearn.metrics.confusion_matrix.html\n",
    "from sklearn.model_selection import cross_val_predict\n",
    "from sklearn.metrics import confusion_matrix\n",
    "\n",
    "# Generate cross-validated estimates for each input data point then compute the confusion matrix \n",
    "y_train_pred = cross_val_predict(sgd_clf, X_train, y_train, cv=3)\n",
    "conf_mx = confusion_matrix(y_train, y_train_pred)\n",
    "conf_mx"
   ]
  },
  {
   "cell_type": "code",
   "execution_count": 21,
   "metadata": {},
   "outputs": [
    {
     "name": "stdout",
     "output_type": "stream",
     "text": [
      "Saving figure confusion_matrix_SGDClassifier\n"
     ]
    },
    {
     "data": {
      "image/png": "[encoded data removed]",
      "text/plain": [
       "<Figure size 288x288 with 1 Axes>"
      ]
     },
     "metadata": {
      "needs_background": "light"
     },
     "output_type": "display_data"
    }
   ],
   "source": [
    "# Plot the result confusion matrix\n",
    "plt.matshow(conf_mx, cmap=plt.cm.gray)\n",
    "save_fig(\"confusion_matrix_SGDClassifier\", tight_layout=False)\n",
    "plt.show()"
   ]
  },
  {
   "cell_type": "code",
   "execution_count": 22,
   "metadata": {},
   "outputs": [
    {
     "name": "stdout",
     "output_type": "stream",
     "text": [
      "Saving figure confusion_matrix_errors_SGDClassifier\n"
     ]
    },
    {
     "data": {
      "image/png": "[encoded data removed]",
      "text/plain": [
       "<Figure size 288x288 with 1 Axes>"
      ]
     },
     "metadata": {
      "needs_background": "light"
     },
     "output_type": "display_data"
    }
   ],
   "source": [
    "# Plot the confusion matrix errors (the lighter the block, the more errors)\n",
    "row_sums = conf_mx.sum(axis=1, keepdims=True)\n",
    "norm_conf_mx = conf_mx / row_sums\n",
    "\n",
    "np.fill_diagonal(norm_conf_mx, 0)\n",
    "plt.matshow(norm_conf_mx, cmap=plt.cm.gray)\n",
    "save_fig(\"confusion_matrix_errors_SGDClassifier\", tight_layout=False)\n",
    "plt.show()"
   ]
  },
  {
   "cell_type": "code",
   "execution_count": 23,
   "metadata": {},
   "outputs": [
    {
     "name": "stdout",
     "output_type": "stream",
     "text": [
      "Saving figure error_analysis_digits_SGDClassifier\n"
     ]
    },
    {
     "data": {
      "image/png": "[encoded data removed]",
      "text/plain": [
       "<Figure size 576x576 with 4 Axes>"
      ]
     },
     "metadata": {
      "needs_background": "light"
     },
     "output_type": "display_data"
    }
   ],
   "source": [
    "# Based on the confusion matrix, the model seem to make the most mistakes\n",
    "# when classifying digits with true label i but predict them to be j\n",
    "\n",
    "# https://numpy.org/doc/stable/reference/generated/numpy.unravel_index.html\n",
    "i,j = np.unravel_index(norm_conf_mx.argmax(), norm_conf_mx.shape)\n",
    "\n",
    "cl_a, cl_b = i, j\n",
    "X_aa = X_train[(y_train == cl_a) & (y_train_pred == cl_a)]\n",
    "X_ab = X_train[(y_train == cl_a) & (y_train_pred == cl_b)]\n",
    "X_ba = X_train[(y_train == cl_b) & (y_train_pred == cl_a)]\n",
    "X_bb = X_train[(y_train == cl_b) & (y_train_pred == cl_b)]\n",
    "\n",
    "plt.figure(figsize=(8,8))\n",
    "plt.subplot(221).set_title('True label '+ str(i) + ' and predicted label '+ str(i)); plot_digits(X_aa[:25], images_per_row=5)\n",
    "plt.subplot(222).set_title('True label '+ str(i) + ' and predicted label '+ str(j)); plot_digits(X_ab[:25], images_per_row=5)\n",
    "plt.subplot(223).set_title('True label '+ str(j) + ' and predicted label '+ str(i)); plot_digits(X_ba[:25], images_per_row=5)\n",
    "plt.subplot(224).set_title('True label '+ str(j) + ' and predicted label '+ str(j)); plot_digits(X_bb[:25], images_per_row=5)\n",
    "save_fig(\"error_analysis_digits_SGDClassifier\")\n",
    "plt.show()"
   ]
  },
  {
   "cell_type": "code",
   "execution_count": 24,
   "metadata": {},
   "outputs": [
    {
     "data": {
      "text/plain": [
       "0.8955"
      ]
     },
     "execution_count": 24,
     "metadata": {},
     "output_type": "execute_result"
    }
   ],
   "source": [
    "# https://scikit-learn.org/stable/modules/generated/sklearn.metrics.accuracy_score.html\n",
    "from sklearn.metrics import accuracy_score\n",
    "\n",
    "# Evaluate accuracy on test set\n",
    "y_pred = sgd_clf.predict(X_test)\n",
    "accuracy_score(y_test, y_pred)"
   ]
  },
  {
   "cell_type": "markdown",
   "metadata": {},
   "source": [
    "# Step 6: Classification using RandomForest Classifier with Data Normalization / Standardization, Data Augmentation, and Hyperparameters Optimization"
   ]
  },
  {
   "cell_type": "code",
   "execution_count": 25,
   "metadata": {},
   "outputs": [
    {
     "data": {
      "text/plain": [
       "RandomForestClassifier(bootstrap=True, class_weight=None, criterion='gini',\n",
       "            max_depth=None, max_features='auto', max_leaf_nodes=None,\n",
       "            min_impurity_decrease=0.0, min_impurity_split=None,\n",
       "            min_samples_leaf=1, min_samples_split=2,\n",
       "            min_weight_fraction_leaf=0.0, n_estimators=100, n_jobs=None,\n",
       "            oob_score=False, random_state=42, verbose=0, warm_start=False)"
      ]
     },
     "execution_count": 25,
     "metadata": {},
     "output_type": "execute_result"
    }
   ],
   "source": [
    "# https://scikit-learn.org/stable/modules/generated/sklearn.ensemble.RandomForestClassifier.html\n",
    "from sklearn.ensemble import RandomForestClassifier\n",
    "\n",
    "# Random Forest Classifier with Default parameters\n",
    "forest_clf = RandomForestClassifier(n_estimators = 100, random_state = 42)\n",
    "forest_clf.fit(X_train, y_train)\n",
    "\n",
    "# Note: \n",
    "# 1. 'n_estimators' is set due to a FutureWarning\n",
    "# 2. 'random_state' is set since it controls the randomness of the bootstrapping of the samples used when building trees \n",
    "#    and 'bootstrap' is True by default"
   ]
  },
  {
   "cell_type": "code",
   "execution_count": 26,
   "metadata": {},
   "outputs": [
    {
     "name": "stdout",
     "output_type": "stream",
     "text": [
      "The predicted class for the sample digit is 6\n"
     ]
    }
   ],
   "source": [
    "# Test the model by making a prediction the sample digit\n",
    "some_digit_predicted = forest_clf.predict([some_digit])\n",
    "print(\"The predicted class for the sample digit is\",some_digit_predicted[0])"
   ]
  },
  {
   "cell_type": "code",
   "execution_count": 27,
   "metadata": {},
   "outputs": [
    {
     "data": {
      "text/plain": [
       "array([[0.02, 0.  , 0.06, 0.  , 0.02, 0.  , 0.89, 0.01, 0.  , 0.  ]])"
      ]
     },
     "execution_count": 27,
     "metadata": {},
     "output_type": "execute_result"
    }
   ],
   "source": [
    "# Predict class probabilities for X\n",
    "forest_clf.predict_proba([some_digit])"
   ]
  },
  {
   "cell_type": "code",
   "execution_count": 28,
   "metadata": {},
   "outputs": [
    {
     "data": {
      "text/plain": [
       "array([0.96545691, 0.96539827, 0.96549482])"
      ]
     },
     "execution_count": 28,
     "metadata": {},
     "output_type": "execute_result"
    }
   ],
   "source": [
    "# Evaluate a score by cross-validation\n",
    "cross_val_score(forest_clf, X_train, y_train, cv=3, scoring=\"accuracy\")"
   ]
  },
  {
   "cell_type": "code",
   "execution_count": 29,
   "metadata": {},
   "outputs": [
    {
     "data": {
      "text/plain": [
       "array([[5844,    1,    9,    1,    6,    7,   19,    1,   33,    2],\n",
       "       [   1, 6638,   34,   18,   14,    2,    6,   16,   10,    3],\n",
       "       [  23,   11, 5760,   27,   33,    4,   20,   36,   37,    7],\n",
       "       [  10,    6,   89, 5810,    1,   66,    4,   52,   63,   30],\n",
       "       [  11,   13,   10,    0, 5655,    1,   30,    9,   13,  100],\n",
       "       [  22,    7,   12,   63,   10, 5195,   44,    6,   36,   26],\n",
       "       [  29,   10,    4,    0,   13,   44, 5802,    0,   16,    0],\n",
       "       [   6,   23,   57,    7,   36,    0,    0, 6046,   10,   80],\n",
       "       [  10,   29,   34,   46,   29,   51,   28,    7, 5550,   67],\n",
       "       [  24,   10,   14,   81,   73,   18,    4,   53,   45, 5627]],\n",
       "      dtype=int64)"
      ]
     },
     "execution_count": 29,
     "metadata": {},
     "output_type": "execute_result"
    }
   ],
   "source": [
    "# Generate cross-validated estimates for each input data point then compute the confusion matrix \n",
    "y_train_pred = cross_val_predict(forest_clf, X_train, y_train, cv=3)\n",
    "conf_mx = confusion_matrix(y_train, y_train_pred)\n",
    "conf_mx"
   ]
  },
  {
   "cell_type": "code",
   "execution_count": 30,
   "metadata": {},
   "outputs": [
    {
     "name": "stdout",
     "output_type": "stream",
     "text": [
      "Saving figure confusion_matrix_RandomForestClassifier\n"
     ]
    },
    {
     "data": {
      "image/png": "[encoded data removed]",
      "text/plain": [
       "<Figure size 288x288 with 1 Axes>"
      ]
     },
     "metadata": {
      "needs_background": "light"
     },
     "output_type": "display_data"
    }
   ],
   "source": [
    "# Plot the result confusion matrix\n",
    "plt.matshow(conf_mx, cmap=plt.cm.gray)\n",
    "save_fig(\"confusion_matrix_RandomForestClassifier\", tight_layout=False)\n",
    "plt.show()"
   ]
  },
  {
   "cell_type": "code",
   "execution_count": 31,
   "metadata": {},
   "outputs": [
    {
     "name": "stdout",
     "output_type": "stream",
     "text": [
      "Saving figure confusion_matrix_errors_RandomForestClassifier\n"
     ]
    },
    {
     "data": {
      "image/png": "[encoded data removed]",
      "text/plain": [
       "<Figure size 288x288 with 1 Axes>"
      ]
     },
     "metadata": {
      "needs_background": "light"
     },
     "output_type": "display_data"
    }
   ],
   "source": [
    "# Plot the confusion matrix errors (the lighter the block, the more errors)\n",
    "row_sums = conf_mx.sum(axis=1, keepdims=True)\n",
    "norm_conf_mx = conf_mx / row_sums\n",
    "np.fill_diagonal(norm_conf_mx, 0)\n",
    "plt.matshow(norm_conf_mx, cmap=plt.cm.gray)\n",
    "save_fig(\"confusion_matrix_errors_RandomForestClassifier\", tight_layout=False)\n",
    "plt.show()"
   ]
  },
  {
   "cell_type": "code",
   "execution_count": 32,
   "metadata": {},
   "outputs": [
    {
     "name": "stdout",
     "output_type": "stream",
     "text": [
      "Saving figure error_analysis_digits_RandomForestClassifier\n"
     ]
    },
    {
     "data": {
      "image/png": "[encoded data removed]",
      "text/plain": [
       "<Figure size 576x576 with 4 Axes>"
      ]
     },
     "metadata": {
      "needs_background": "light"
     },
     "output_type": "display_data"
    }
   ],
   "source": [
    "# Based on the confusion matrix, the model seem to make the most mistakes\n",
    "# when classifying digits with true label i but predict them to be j\n",
    "\n",
    "i,j = np.unravel_index(norm_conf_mx.argmax(), norm_conf_mx.shape)\n",
    "\n",
    "cl_a, cl_b = i, j\n",
    "X_aa = X_train[(y_train == cl_a) & (y_train_pred == cl_a)]\n",
    "X_ab = X_train[(y_train == cl_a) & (y_train_pred == cl_b)]\n",
    "X_ba = X_train[(y_train == cl_b) & (y_train_pred == cl_a)]\n",
    "X_bb = X_train[(y_train == cl_b) & (y_train_pred == cl_b)]\n",
    "\n",
    "plt.figure(figsize=(8,8))\n",
    "plt.subplot(221).set_title('True label '+ str(i) + ' and predicted label '+ str(i)); plot_digits(X_aa[:25], images_per_row=5)\n",
    "plt.subplot(222).set_title('True label '+ str(i) + ' and predicted label '+ str(j)); plot_digits(X_ab[:25], images_per_row=5)\n",
    "plt.subplot(223).set_title('True label '+ str(j) + ' and predicted label '+ str(i)); plot_digits(X_ba[:25], images_per_row=5)\n",
    "plt.subplot(224).set_title('True label '+ str(j) + ' and predicted label '+ str(j)); plot_digits(X_bb[:25], images_per_row=5)\n",
    "save_fig(\"error_analysis_digits_RandomForestClassifier\")\n",
    "plt.show()"
   ]
  },
  {
   "cell_type": "code",
   "execution_count": 33,
   "metadata": {},
   "outputs": [
    {
     "name": "stdout",
     "output_type": "stream",
     "text": [
      "Accuracy score for the Random Forest classifier with default parameters 0.9697\n"
     ]
    }
   ],
   "source": [
    "# Evaluate accuracy on test set\n",
    "y_pred = forest_clf.predict(X_test)\n",
    "forest_clf_DEFAULT_score = accuracy_score(y_test, y_pred)\n",
    "print(\"Accuracy score for the Random Forest classifier with default parameters\", forest_clf_DEFAULT_score) "
   ]
  },
  {
   "cell_type": "markdown",
   "metadata": {},
   "source": [
    "### Data normalization / Standardization on Default Random Forest Classifier"
   ]
  },
  {
   "cell_type": "code",
   "execution_count": 34,
   "metadata": {},
   "outputs": [
    {
     "data": {
      "text/plain": [
       "RandomForestClassifier(bootstrap=True, class_weight=None, criterion='gini',\n",
       "            max_depth=None, max_features='auto', max_leaf_nodes=None,\n",
       "            min_impurity_decrease=0.0, min_impurity_split=None,\n",
       "            min_samples_leaf=1, min_samples_split=2,\n",
       "            min_weight_fraction_leaf=0.0, n_estimators=100, n_jobs=None,\n",
       "            oob_score=False, random_state=42, verbose=0, warm_start=False)"
      ]
     },
     "execution_count": 34,
     "metadata": {},
     "output_type": "execute_result"
    }
   ],
   "source": [
    "# https://scikit-learn.org/stable/modules/generated/sklearn.preprocessing.StandardScaler.html\n",
    "# https://scikit-learn.org/stable/modules/generated/sklearn.preprocessing.Normalizer.html\n",
    "# https://towardsdatascience.com/scale-standardize-or-normalize-with-scikit-learn-6ccc7d176a02\n",
    "from sklearn.preprocessing import StandardScaler\n",
    "\n",
    "# Standardize features by removing the mean and scaling to unit variance\n",
    "scaler = StandardScaler()\n",
    "X_train_scaled = scaler.fit_transform(X_train.astype(np.float64))\n",
    "X_test_scaled = scaler.transform(X_test.astype(np.float64))\n",
    "\n",
    "standardized_forest_clf = RandomForestClassifier(n_estimators = 100, random_state = 42)\n",
    "standardized_forest_clf.fit(X_train_scaled, y_train)"
   ]
  },
  {
   "cell_type": "code",
   "execution_count": 35,
   "metadata": {},
   "outputs": [
    {
     "data": {
      "text/plain": [
       "array([0.96560688, 0.96549827, 0.96539481])"
      ]
     },
     "execution_count": 35,
     "metadata": {},
     "output_type": "execute_result"
    }
   ],
   "source": [
    "# Evaluate a score by cross-validation\n",
    "cross_val_score(standardized_forest_clf, X_train_scaled, y_train, cv=3, scoring=\"accuracy\")"
   ]
  },
  {
   "cell_type": "code",
   "execution_count": 36,
   "metadata": {},
   "outputs": [
    {
     "data": {
      "text/plain": [
       "array([[5844,    1,    9,    1,    6,    7,   19,    1,   33,    2],\n",
       "       [   1, 6638,   35,   17,   14,    2,    6,   16,   10,    3],\n",
       "       [  23,   11, 5761,   27,   33,    4,   20,   35,   37,    7],\n",
       "       [  10,    6,   89, 5808,    1,   67,    4,   53,   63,   30],\n",
       "       [  11,   13,   10,    0, 5656,    1,   30,    9,   13,   99],\n",
       "       [  22,    7,   12,   63,   11, 5194,   44,    5,   37,   26],\n",
       "       [  29,   10,    4,    0,   12,   44, 5803,    0,   16,    0],\n",
       "       [   6,   23,   57,    7,   36,    0,    0, 6048,   10,   78],\n",
       "       [  10,   29,   34,   46,   29,   51,   28,    7, 5551,   66],\n",
       "       [  23,   10,   14,   82,   73,   18,    4,   54,   44, 5627]],\n",
       "      dtype=int64)"
      ]
     },
     "execution_count": 36,
     "metadata": {},
     "output_type": "execute_result"
    }
   ],
   "source": [
    "# Generate cross-validated estimates for each input data point then compute the confusion matrix \n",
    "y_train_pred = cross_val_predict(standardized_forest_clf, X_train_scaled, y_train, cv=3)\n",
    "conf_mx = confusion_matrix(y_train, y_train_pred)\n",
    "conf_mx"
   ]
  },
  {
   "cell_type": "code",
   "execution_count": 37,
   "metadata": {},
   "outputs": [
    {
     "name": "stdout",
     "output_type": "stream",
     "text": [
      "Accuracy score for the default Random Forest with data normalization/standardization 0.9695\n"
     ]
    }
   ],
   "source": [
    "# Evaluate accuracy on test set for the normalized/standardized\n",
    "y_pred_scaled = standardized_forest_clf.predict(X_test_scaled)\n",
    "forest_clf_STANDARDIZED_score = accuracy_score(y_test, y_pred_scaled)\n",
    "print(\"Accuracy score for the default Random Forest with data normalization/standardization\", forest_clf_STANDARDIZED_score) "
   ]
  },
  {
   "cell_type": "markdown",
   "metadata": {},
   "source": [
    "### Data Augmentation techniques on Default Random Forest Classifier\n",
    "\n",
    "Data Augmentation options: \n",
    "* Image rotation: Not viable since 6 and 9 can get mixed up\n",
    "* Image zoom / padding: Already big enough so can't really zoom and crop anymore\n",
    "* Image shifting: Adapted from https://towardsdatascience.com/improving-accuracy-on-mnist-using-data-augmentation-b5c38eb5a903\n",
    "* Image shift in hue (small): Unless using Tensorflow library (https://www.tensorflow.org/api_docs/python/tf/image/adjust_hue)"
   ]
  },
  {
   "cell_type": "code",
   "execution_count": 38,
   "metadata": {},
   "outputs": [],
   "source": [
    "from scipy.ndimage.interpolation import shift\n",
    "\n",
    "def shift_image(image, dx, dy):\n",
    "    \"\"\"Method to shift the image by given dimension\"\"\"\n",
    "    image = image.reshape((28, 28))\n",
    "    shifted_image = shift(image, [dy, dx], cval=0, mode=\"constant\")\n",
    "    return shifted_image.reshape([-1])\n",
    "\n",
    "\n",
    "# Creating Augmented Dataset\n",
    "X_train_augmented = [image for image in X_train]\n",
    "y_train_augmented = [image for image in y_train]\n",
    "\n",
    "for dx, dy in ((1,0), (-1,0)):\n",
    "     for image, label in zip(X_train, y_train):\n",
    "            X_train_augmented.append(shift_image(image, dx, dy))\n",
    "            y_train_augmented.append(label)"
   ]
  },
  {
   "cell_type": "code",
   "execution_count": 39,
   "metadata": {},
   "outputs": [],
   "source": [
    "# Shuffle the dataset\n",
    "shuffle_idx = np.random.permutation(len(X_train_augmented))\n",
    "X_train_augmented = np.array(X_train_augmented)[shuffle_idx]\n",
    "y_train_augmented = np.array(y_train_augmented)[shuffle_idx]"
   ]
  },
  {
   "cell_type": "code",
   "execution_count": 40,
   "metadata": {},
   "outputs": [
    {
     "data": {
      "text/plain": [
       "RandomForestClassifier(bootstrap=True, class_weight=None, criterion='gini',\n",
       "            max_depth=None, max_features='auto', max_leaf_nodes=None,\n",
       "            min_impurity_decrease=0.0, min_impurity_split=None,\n",
       "            min_samples_leaf=1, min_samples_split=2,\n",
       "            min_weight_fraction_leaf=0.0, n_estimators=100, n_jobs=None,\n",
       "            oob_score=False, random_state=42, verbose=0, warm_start=False)"
      ]
     },
     "execution_count": 40,
     "metadata": {},
     "output_type": "execute_result"
    }
   ],
   "source": [
    "# Training on augmented dataset\n",
    "forest_clf_augmented = RandomForestClassifier(n_estimators = 100, random_state = 42)\n",
    "forest_clf_augmented.fit(X_train_augmented, y_train_augmented)"
   ]
  },
  {
   "cell_type": "code",
   "execution_count": 41,
   "metadata": {},
   "outputs": [
    {
     "name": "stdout",
     "output_type": "stream",
     "text": [
      "Accuracy score for the Default Random Forest with data augmentation 0.9722\n"
     ]
    }
   ],
   "source": [
    "# Evaluating the model\n",
    "y_pred_augmented = forest_clf_augmented.predict(X_test)\n",
    "forest_clf_AUGMENTED_score = accuracy_score(y_test, y_pred_augmented)\n",
    "print(\"Accuracy score for the Default Random Forest with data augmentation\", forest_clf_AUGMENTED_score) "
   ]
  },
  {
   "cell_type": "markdown",
   "metadata": {},
   "source": [
    "### Hyperparameters Optimization on Default Random Forest Classifier\n",
    "https://scikit-learn.org/stable/modules/grid_search.html"
   ]
  },
  {
   "cell_type": "code",
   "execution_count": 42,
   "metadata": {},
   "outputs": [],
   "source": [
    "# https://scikit-learn.org/stable/modules/generated/sklearn.ensemble.RandomForestClassifier.html\n",
    "\n",
    "# Chosen parameters for optimization\n",
    "parameters = {'n_estimators': [10, 25, 50, 100], \n",
    "              'criterion': ['gini', 'entropy']}"
   ]
  },
  {
   "cell_type": "code",
   "execution_count": 43,
   "metadata": {},
   "outputs": [
    {
     "data": {
      "text/plain": [
       "GridSearchCV(cv=3, error_score='raise-deprecating',\n",
       "       estimator=RandomForestClassifier(bootstrap=True, class_weight=None, criterion='gini',\n",
       "            max_depth=None, max_features='auto', max_leaf_nodes=None,\n",
       "            min_impurity_decrease=0.0, min_impurity_split=None,\n",
       "            min_samples_leaf=1, min_samples_split=2,\n",
       "            min_weight_fraction_leaf=0.0, n_estimators=100, n_jobs=None,\n",
       "            oob_score=False, random_state=42, verbose=0, warm_start=False),\n",
       "       fit_params=None, iid='warn', n_jobs=None,\n",
       "       param_grid={'n_estimators': [10, 25, 50, 100], 'criterion': ['gini', 'entropy']},\n",
       "       pre_dispatch='2*n_jobs', refit=True, return_train_score='warn',\n",
       "       scoring='accuracy', verbose=0)"
      ]
     },
     "execution_count": 43,
     "metadata": {},
     "output_type": "execute_result"
    }
   ],
   "source": [
    "            ###  Exhaustive Grid Search ###\n",
    "\n",
    "# https://scikit-learn.org/stable/modules/generated/sklearn.model_selection.GridSearchCV.html\n",
    "from sklearn.model_selection import GridSearchCV\n",
    "\n",
    "forest_clf_GridSearchCV = GridSearchCV(forest_clf, parameters, scoring='accuracy', cv=3)\n",
    "forest_clf_GridSearchCV.fit(X_train, y_train)"
   ]
  },
  {
   "cell_type": "code",
   "execution_count": 44,
   "metadata": {},
   "outputs": [
    {
     "name": "stdout",
     "output_type": "stream",
     "text": [
      "Best parameters set found on development set: {'criterion': 'entropy', 'n_estimators': 100}\n",
      "\n",
      "Grid scores on development set:\n",
      "0.940 (+/-0.001) for {'criterion': 'gini', 'n_estimators': 10}\n",
      "0.957 (+/-0.000) for {'criterion': 'gini', 'n_estimators': 25}\n",
      "0.963 (+/-0.001) for {'criterion': 'gini', 'n_estimators': 50}\n",
      "0.965 (+/-0.000) for {'criterion': 'gini', 'n_estimators': 100}\n",
      "0.942 (+/-0.001) for {'criterion': 'entropy', 'n_estimators': 10}\n",
      "0.958 (+/-0.001) for {'criterion': 'entropy', 'n_estimators': 25}\n",
      "0.963 (+/-0.002) for {'criterion': 'entropy', 'n_estimators': 50}\n",
      "0.966 (+/-0.001) for {'criterion': 'entropy', 'n_estimators': 100}\n"
     ]
    }
   ],
   "source": [
    "# https://scikit-learn.org/stable/auto_examples/model_selection/plot_grid_search_digits.html\n",
    "\n",
    "print(\"Best parameters set found on development set:\", forest_clf_GridSearchCV.best_params_)\n",
    "\n",
    "print(\"\\nGrid scores on development set:\")\n",
    "means = forest_clf_GridSearchCV.cv_results_['mean_test_score']\n",
    "stds = forest_clf_GridSearchCV.cv_results_['std_test_score']\n",
    "\n",
    "for mean, std, params in zip(means, stds, forest_clf_GridSearchCV.cv_results_['params']):\n",
    "    print(\"%0.3f (+/-%0.03f) for %r\" % (mean, std * 2, params))"
   ]
  },
  {
   "cell_type": "code",
   "execution_count": 45,
   "metadata": {},
   "outputs": [
    {
     "name": "stdout",
     "output_type": "stream",
     "text": [
      "RandomizedSearchCV took 202.05 seconds for 5 candidates parameter settings.\n"
     ]
    }
   ],
   "source": [
    "            ### Randomized Parameter Optimization ###\n",
    "\n",
    "# https://scikit-learn.org/stable/modules/generated/sklearn.model_selection.RandomizedSearchCV.html\n",
    "from sklearn.model_selection import RandomizedSearchCV\n",
    "from time import time\n",
    "\n",
    "n_iter_search = 5\n",
    "forest_clf_RandomizedSearchCV = RandomizedSearchCV(forest_clf, param_distributions = parameters,\n",
    "                                                   n_iter = n_iter_search, cv=3)\n",
    "\n",
    "start = time()\n",
    "forest_clf_RandomizedSearchCV.fit(X_train, y_train)\n",
    "print(\"RandomizedSearchCV took %.2f seconds for %d candidates parameter settings.\" % ((time() - start), n_iter_search))"
   ]
  },
  {
   "cell_type": "code",
   "execution_count": 46,
   "metadata": {},
   "outputs": [
    {
     "name": "stdout",
     "output_type": "stream",
     "text": [
      "Best parameters set found on development set: {'n_estimators': 100, 'criterion': 'entropy'}\n",
      "\n",
      "Grid scores on development set:\n",
      "0.942 (+/-0.001) for {'n_estimators': 10, 'criterion': 'entropy'}\n",
      "0.963 (+/-0.002) for {'n_estimators': 50, 'criterion': 'entropy'}\n",
      "0.958 (+/-0.001) for {'n_estimators': 25, 'criterion': 'entropy'}\n",
      "0.940 (+/-0.001) for {'n_estimators': 10, 'criterion': 'gini'}\n",
      "0.966 (+/-0.001) for {'n_estimators': 100, 'criterion': 'entropy'}\n"
     ]
    }
   ],
   "source": [
    "print(\"Best parameters set found on development set:\", forest_clf_RandomizedSearchCV.best_params_)\n",
    "\n",
    "print(\"\\nGrid scores on development set:\")\n",
    "means = forest_clf_RandomizedSearchCV.cv_results_['mean_test_score']\n",
    "stds = forest_clf_RandomizedSearchCV.cv_results_['std_test_score']\n",
    "\n",
    "for mean, std, params in zip(means, stds, forest_clf_RandomizedSearchCV.cv_results_['params']):\n",
    "    print(\"%0.3f (+/-%0.03f) for %r\" % (mean, std * 2, params))"
   ]
  },
  {
   "cell_type": "markdown",
   "metadata": {},
   "source": [
    "### Random Forest with normalization/standardization, data augmentation, and hyperparameters otimization"
   ]
  },
  {
   "cell_type": "code",
   "execution_count": 47,
   "metadata": {},
   "outputs": [
    {
     "data": {
      "text/plain": [
       "Pipeline(memory=None,\n",
       "     steps=[('scaler', StandardScaler(copy=True, with_mean=True, with_std=True)), ('rfc', RandomForestClassifier(bootstrap=True, class_weight=None, criterion='entropy',\n",
       "            max_depth=None, max_features='auto', max_leaf_nodes=None,\n",
       "            min_impurity_decrease=0.0, min_impurity_split=None,\n",
       "  ...obs=None,\n",
       "            oob_score=False, random_state=None, verbose=0,\n",
       "            warm_start=False))])"
      ]
     },
     "execution_count": 47,
     "metadata": {},
     "output_type": "execute_result"
    }
   ],
   "source": [
    "# https://scikit-learn.org/stable/modules/generated/sklearn.pipeline.Pipeline.html\n",
    "from sklearn.pipeline import Pipeline\n",
    "\n",
    "forest_clf_BEST_pipe = Pipeline([('scaler', StandardScaler()),\n",
    "                                ('rfc', RandomForestClassifier(**forest_clf_GridSearchCV.best_params_))])\n",
    "\n",
    "forest_clf_BEST_pipe\n",
    "\n",
    "# Note: 'forest_clf_GridSearchCV.best_estimator_' come from Hyperparameters Optimization section"
   ]
  },
  {
   "cell_type": "code",
   "execution_count": 48,
   "metadata": {},
   "outputs": [
    {
     "data": {
      "text/plain": [
       "Pipeline(memory=None,\n",
       "     steps=[('scaler', StandardScaler(copy=True, with_mean=True, with_std=True)), ('rfc', RandomForestClassifier(bootstrap=True, class_weight=None, criterion='entropy',\n",
       "            max_depth=None, max_features='auto', max_leaf_nodes=None,\n",
       "            min_impurity_decrease=0.0, min_impurity_split=None,\n",
       "  ...obs=None,\n",
       "            oob_score=False, random_state=None, verbose=0,\n",
       "            warm_start=False))])"
      ]
     },
     "execution_count": 48,
     "metadata": {},
     "output_type": "execute_result"
    }
   ],
   "source": [
    "# Train the classifier\n",
    "forest_clf_BEST_pipe.fit(X_train_augmented, y_train_augmented)\n",
    "\n",
    "# Note: 'X_train_augmented' and 'y_train_augmented' come from Data Augmentation section \n",
    "#        StandardScaler is in the Pipeline already "
   ]
  },
  {
   "cell_type": "code",
   "execution_count": 49,
   "metadata": {},
   "outputs": [
    {
     "name": "stdout",
     "output_type": "stream",
     "text": [
      "Accuracy score for the Random Forest with normalization/standardization,\n",
      "data augmentation, and hyperparameters otimization:\t 0.9746\n"
     ]
    }
   ],
   "source": [
    "# Get the score for the classifier\n",
    "forest_clf_BEST_score = forest_clf_BEST_pipe.score(X_test, y_test)\n",
    "print(\"Accuracy score for the Random Forest with normalization/standardization,\")\n",
    "print(\"data augmentation, and hyperparameters otimization:\\t\", forest_clf_BEST_score)"
   ]
  },
  {
   "cell_type": "markdown",
   "metadata": {},
   "source": [
    "### Classifiers Results"
   ]
  },
  {
   "cell_type": "code",
   "execution_count": 50,
   "metadata": {},
   "outputs": [
    {
     "name": "stdout",
     "output_type": "stream",
     "text": [
      "Random Forest classifier with default parameters:\t 0.9697\n",
      "\n",
      "Default Random Forest with data normalization/standardization:\t 0.9695\n",
      "\n",
      "Default Random Forest with data augmentation:\t 0.9722\n",
      "\n",
      "Random Forest with normalization/standardization, data augmentation, and hyperparameters otimization:\t 0.9746\n"
     ]
    }
   ],
   "source": [
    "print(\"Random Forest classifier with default parameters:\\t\", forest_clf_DEFAULT_score) \n",
    "print(\"\\nDefault Random Forest with data normalization/standardization:\\t\", forest_clf_STANDARDIZED_score)\n",
    "print(\"\\nDefault Random Forest with data augmentation:\\t\", forest_clf_AUGMENTED_score) \n",
    "print(\"\\nRandom Forest with normalization/standardization, data augmentation, and hyperparameters otimization:\\t\", forest_clf_BEST_score)"
   ]
  }
 ],
 "metadata": {
  "kernelspec": {
   "display_name": "Python 3",
   "language": "python",
   "name": "python3"
  },
  "language_info": {
   "codemirror_mode": {
    "name": "ipython",
    "version": 3
   },
   "file_extension": ".py",
   "mimetype": "text/x-python",
   "name": "python",
   "nbconvert_exporter": "python",
   "pygments_lexer": "ipython3",
   "version": "3.7.3"
  },
  "nav_menu": {},
  "toc": {
   "navigate_menu": true,
   "number_sections": true,
   "sideBar": true,
   "threshold": 6,
   "toc_cell": false,
   "toc_section_display": "block",
   "toc_window_display": false
  }
 },
 "nbformat": 4,
 "nbformat_minor": 1
}
