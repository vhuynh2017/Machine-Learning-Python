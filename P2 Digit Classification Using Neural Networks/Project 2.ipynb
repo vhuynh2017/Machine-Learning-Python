{
 "cells": [
  {
   "cell_type": "markdown",
   "metadata": {},
   "source": [
    "# CAP 6618 - Machine Learning for Computer Vision"
   ]
  },
  {
   "cell_type": "markdown",
   "metadata": {},
   "source": [
    "# Project 2 Digit Classification Using Neural Networks\n",
    "Design and implement a complete solution to the problem of handwritten digit recognition, stated as follows: “given an image of a handwritten digit, produce the corresponding numerical value.” Essentially, you will build, fine-tune, and evaluate a 10-class (multi-layer perceptron) neural network-based classifier which will employ the pixel values of the images as features. ONLY Neural Networks (Deep Learning next project)"
   ]
  },
  {
   "cell_type": "markdown",
   "metadata": {},
   "source": [
    "### Educational Objectives\n",
    "* Learn how to implement a neural network-based classifier in Python\n",
    "* Learn how to evaluate and fine-tune the performance of the neural network-based classifier\n",
    "* Learn how to test the neural network-based classifier and produce a set of plots, performance measures, and results that can be compared against other groups / classmates"
   ]
  },
  {
   "cell_type": "markdown",
   "metadata": {},
   "source": [
    "### Dataset\n",
    "Make sure to download the 'mnist.pkl.gz' file from https://github.com/MichalDanielDobrzanski/DeepLearningPython35 (Place the dataset file in this jupyter notebook directory)"
   ]
  },
  {
   "cell_type": "markdown",
   "metadata": {},
   "source": [
    "# Step 1: Setup"
   ]
  },
  {
   "cell_type": "code",
   "execution_count": 1,
   "metadata": {},
   "outputs": [],
   "source": [
    "# To support both python 2 and python 3\n",
    "from __future__ import division, print_function, unicode_literals\n",
    "\n",
    "# Common imports\n",
    "import numpy as np\n",
    "import os\n",
    "\n",
    "# Standard library\n",
    "import random\n",
    "import pickle\n",
    "import gzip\n",
    "import warnings\n",
    "\n",
    "# Sklearn warning\n",
    "from sklearn.exceptions import ConvergenceWarning\n",
    "\n",
    "# to make this notebook's output stable across runs\n",
    "np.random.seed(42)\n",
    "\n",
    "# To plot pretty figures\n",
    "%matplotlib inline\n",
    "import matplotlib\n",
    "import matplotlib.pyplot as plt\n",
    "plt.rcParams['axes.labelsize'] = 14\n",
    "plt.rcParams['xtick.labelsize'] = 12\n",
    "plt.rcParams['ytick.labelsize'] = 12"
   ]
  },
  {
   "cell_type": "markdown",
   "metadata": {},
   "source": [
    "### Shared Methods"
   ]
  },
  {
   "cell_type": "code",
   "execution_count": 2,
   "metadata": {},
   "outputs": [],
   "source": [
    "# Where to save the figures\n",
    "PROJECT_ROOT_DIR = \".\"\n",
    "CHAPTER_ID = \"classification\"\n",
    "\n",
    "def save_fig(fig_id, tight_layout=True):\n",
    "    \"\"\" Method to save figures to your local computer\"\"\"\n",
    "    image_dir = os.path.join(PROJECT_ROOT_DIR, \"images\", CHAPTER_ID)\n",
    "    if not os.path.exists(image_dir):\n",
    "        os.makedirs(image_dir)\n",
    "\n",
    "    path = os.path.join(image_dir, fig_id + \".png\")\n",
    "    print(\"Saving figure\", fig_id)\n",
    "    if tight_layout:\n",
    "        plt.tight_layout()\n",
    "    plt.savefig(path, format='png', dpi=300)"
   ]
  },
  {
   "cell_type": "code",
   "execution_count": 3,
   "metadata": {},
   "outputs": [],
   "source": [
    "def plot_confusion_matrix(matrix):\n",
    "    \"\"\" Method to plot confusion matrix\"\"\"\n",
    "    fig = plt.figure(figsize=(8,8))\n",
    "    ax = fig.add_subplot(111)\n",
    "    cax = ax.matshow(matrix)\n",
    "    fig.colorbar(cax)"
   ]
  },
  {
   "cell_type": "code",
   "execution_count": 4,
   "metadata": {},
   "outputs": [],
   "source": [
    "def plot_digits(instances, images_per_row=10, **options):\n",
    "    \"\"\" Method to plot sample digits\"\"\"\n",
    "    size = 28\n",
    "    \n",
    "    # If there are instances, plot them\n",
    "    if(len(instances)):\n",
    "        images_per_row = min(len(instances), images_per_row)\n",
    "        images = [instance.reshape(size,size) for instance in instances]\n",
    "        n_rows = (len(instances) - 1) // images_per_row + 1\n",
    "        row_images = []\n",
    "        n_empty = n_rows * images_per_row - len(instances)\n",
    "        images.append(np.zeros((size, size * n_empty)))\n",
    "        for row in range(n_rows):\n",
    "            rimages = images[row * images_per_row : (row + 1) * images_per_row]\n",
    "            row_images.append(np.concatenate(rimages, axis=1))\n",
    "        image = np.concatenate(row_images, axis=0)\n",
    "        plt.imshow(image, cmap = matplotlib.cm.binary, **options)\n",
    "    # Else, plot an empty plot\n",
    "    else:\n",
    "        empty_array = np.zeros((5, 5))\n",
    "        plt.imshow(empty_array, cmap = matplotlib.cm.binary, **options)\n",
    "    \n",
    "    plt.axis(\"off\")"
   ]
  },
  {
   "cell_type": "code",
   "execution_count": 5,
   "metadata": {},
   "outputs": [],
   "source": [
    "# Adapted From https://github.com/MichalDanielDobrzanski/DeepLearningPython35\n",
    "\n",
    "\"\"\"\n",
    "A module to implement the stochastic gradient descent learning\n",
    "algorithm for a feedforward neural network.  Gradients are calculated\n",
    "using backpropagation. It is not optimized, and omits many desirable features.\n",
    "\"\"\"\n",
    "\n",
    "class Network(object):\n",
    "\n",
    "    def __init__(self, sizes):\n",
    "        \"\"\"The list ``sizes`` contains the number of neurons in the\n",
    "        respective layers of the network.  For example, if the list\n",
    "        was [2, 3, 1] then it would be a three-layer network, with the\n",
    "        first layer containing 2 neurons, the second layer 3 neurons,\n",
    "        and the third layer 1 neuron.  The biases and weights for the\n",
    "        network are initialized randomly, using a Gaussian\n",
    "        distribution with mean 0, and variance 1.  Note that the first\n",
    "        layer is assumed to be an input layer, and by convention we\n",
    "        won't set any biases for those neurons, since biases are only\n",
    "        ever used in computing the outputs from later layers.\"\"\"\n",
    "        self.num_layers = len(sizes)\n",
    "        self.sizes = sizes\n",
    "        self.biases = [np.random.randn(y, 1) for y in sizes[1:]]\n",
    "        self.weights = [np.random.randn(y, x)\n",
    "                        for x, y in zip(sizes[:-1], sizes[1:])]\n",
    "    \n",
    "    def feedforward(self, a):\n",
    "        \"\"\"Return the output of the network if ``a`` is input.\"\"\"\n",
    "        for b, w in zip(self.biases, self.weights):\n",
    "            a = sigmoid(np.dot(w, a)+b)\n",
    "        return a\n",
    "\n",
    "    def SGD(self, training_data, epochs, mini_batch_size, eta,\n",
    "            test_data=None):\n",
    "        \"\"\"Train the neural network using mini-batch stochastic\n",
    "        gradient descent.  The ``training_data`` is a list of tuples\n",
    "        ``(x, y)`` representing the training inputs and the desired\n",
    "        outputs.  The other non-optional parameters are\n",
    "        self-explanatory.  If ``test_data`` is provided then the\n",
    "        network will be evaluated against the test data after each\n",
    "        epoch, and partial progress printed out.  This is useful for\n",
    "        tracking progress, but slows things down substantially.\"\"\"\n",
    "\n",
    "        training_data = list(training_data)\n",
    "        n = len(training_data)\n",
    "\n",
    "        if test_data:\n",
    "            test_data = list(test_data)\n",
    "            n_test = len(test_data)\n",
    "            \n",
    "        learning_curve = list()\n",
    "        for j in range(epochs):\n",
    "            random.shuffle(training_data)\n",
    "            mini_batches = [\n",
    "                training_data[k:k+mini_batch_size]\n",
    "                for k in range(0, n, mini_batch_size)]\n",
    "            for mini_batch in mini_batches:\n",
    "                self.update_mini_batch(mini_batch, eta)\n",
    "            if test_data:\n",
    "                eval_result = self.evaluate(test_data)\n",
    "                eval_accuracy = eval_result/n_test\n",
    "                learning_curve.append(eval_accuracy)\n",
    "                \n",
    "                print(\"Epoch {} : {} / {}\".format(j,eval_result,n_test))\n",
    "            else:\n",
    "                print(\"Epoch {} complete\".format(j))\n",
    "                \n",
    "        return learning_curve\n",
    "        \n",
    "\n",
    "    def update_mini_batch(self, mini_batch, eta):\n",
    "        \"\"\"Update the network's weights and biases by applying\n",
    "        gradient descent using backpropagation to a single mini batch.\n",
    "        The ``mini_batch`` is a list of tuples ``(x, y)``, and ``eta``\n",
    "        is the learning rate.\"\"\"\n",
    "        nabla_b = [np.zeros(b.shape) for b in self.biases]\n",
    "        nabla_w = [np.zeros(w.shape) for w in self.weights]\n",
    "        for x, y in mini_batch:\n",
    "            delta_nabla_b, delta_nabla_w = self.backprop(x, y)\n",
    "            nabla_b = [nb+dnb for nb, dnb in zip(nabla_b, delta_nabla_b)]\n",
    "            nabla_w = [nw+dnw for nw, dnw in zip(nabla_w, delta_nabla_w)]\n",
    "        self.weights = [w-(eta/len(mini_batch))*nw\n",
    "                        for w, nw in zip(self.weights, nabla_w)]\n",
    "        self.biases = [b-(eta/len(mini_batch))*nb\n",
    "                       for b, nb in zip(self.biases, nabla_b)]\n",
    "\n",
    "    def backprop(self, x, y):\n",
    "        \"\"\"Return a tuple ``(nabla_b, nabla_w)`` representing the\n",
    "        gradient for the cost function C_x.  ``nabla_b`` and\n",
    "        ``nabla_w`` are layer-by-layer lists of numpy arrays, similar\n",
    "        to ``self.biases`` and ``self.weights``.\"\"\"\n",
    "        nabla_b = [np.zeros(b.shape) for b in self.biases]\n",
    "        nabla_w = [np.zeros(w.shape) for w in self.weights]\n",
    "        # feedforward\n",
    "        activation = x\n",
    "        activations = [x] # list to store all the activations, layer by layer\n",
    "        zs = [] # list to store all the z vectors, layer by layer\n",
    "        for b, w in zip(self.biases, self.weights):\n",
    "            z = np.dot(w, activation)+b\n",
    "            zs.append(z)\n",
    "            activation = sigmoid(z)\n",
    "            activations.append(activation)\n",
    "        # backward pass\n",
    "        delta = self.cost_derivative(activations[-1], y) * \\\n",
    "            sigmoid_prime(zs[-1])\n",
    "        nabla_b[-1] = delta\n",
    "        nabla_w[-1] = np.dot(delta, activations[-2].transpose())\n",
    "        # Note that the variable l in the loop below is used a little\n",
    "        # differently to the notation in Chapter 2 of the book.  Here,\n",
    "        # l = 1 means the last layer of neurons, l = 2 is the\n",
    "        # second-last layer, and so on.  It's a renumbering of the\n",
    "        # scheme in the book, used here to take advantage of the fact\n",
    "        # that Python can use negative indices in lists.\n",
    "        for l in range(2, self.num_layers):\n",
    "            z = zs[-l]\n",
    "            sp = sigmoid_prime(z)\n",
    "            delta = np.dot(self.weights[-l+1].transpose(), delta) * sp\n",
    "            nabla_b[-l] = delta\n",
    "            nabla_w[-l] = np.dot(delta, activations[-l-1].transpose())\n",
    "        return (nabla_b, nabla_w)\n",
    "\n",
    "    def evaluate(self, test_data):\n",
    "        \"\"\"Return the number of test inputs for which the neural\n",
    "        network outputs the correct result. Note that the neural\n",
    "        network's output is assumed to be the index of whichever\n",
    "        neuron in the final layer has the highest activation.\"\"\"\n",
    "        test_results = [(np.argmax(self.feedforward(x)), y)\n",
    "                        for (x, y) in test_data]\n",
    "        return sum(int(x == y) for (x, y) in test_results)\n",
    "\n",
    "    def cost_derivative(self, output_activations, y):\n",
    "        \"\"\"Return the vector of partial derivatives \\partial C_x /\n",
    "        \\partial a for the output activations.\"\"\"\n",
    "        return (output_activations-y)\n",
    "\n",
    "#### Miscellaneous functions\n",
    "def sigmoid(z):\n",
    "    \"\"\"The sigmoid function.\"\"\"\n",
    "    return 1.0/(1.0+np.exp(-z))\n",
    "\n",
    "def sigmoid_prime(z):\n",
    "    \"\"\"Derivative of the sigmoid function.\"\"\"\n",
    "    return sigmoid(z)*(1-sigmoid(z))"
   ]
  },
  {
   "cell_type": "code",
   "execution_count": 6,
   "metadata": {},
   "outputs": [],
   "source": [
    "# Source: https://github.com/MichalDanielDobrzanski/DeepLearningPython35\n",
    "\n",
    "def load_data():\n",
    "    \"\"\"Return the MNIST data as a tuple containing the training data,\n",
    "    the validation data, and the test data.\n",
    "    The ``training_data`` is returned as a tuple with two entries.\n",
    "    The first entry contains the actual training images.  This is a\n",
    "    numpy ndarray with 50,000 entries.  Each entry is, in turn, a\n",
    "    numpy ndarray with 784 values, representing the 28 * 28 = 784\n",
    "    pixels in a single MNIST image.\n",
    "    The second entry in the ``training_data`` tuple is a numpy ndarray\n",
    "    containing 50,000 entries.  Those entries are just the digit\n",
    "    values (0...9) for the corresponding images contained in the first\n",
    "    entry of the tuple.\n",
    "    The ``validation_data`` and ``test_data`` are similar, except\n",
    "    each contains only 10,000 images.\n",
    "    This is a nice data format, but for use in neural networks it's\n",
    "    helpful to modify the format of the ``training_data`` a little.\n",
    "    That's done in the wrapper function ``load_data_wrapper()``, see\n",
    "    below.\n",
    "    \"\"\"\n",
    "    f = gzip.open('mnist.pkl.gz', 'rb')\n",
    "    training_data, validation_data, test_data = pickle.load(f, encoding=\"latin1\")\n",
    "    f.close()\n",
    "    return (training_data, validation_data, test_data)\n",
    "\n",
    "def load_data_wrapper():\n",
    "    \"\"\"Return a tuple containing ``(training_data, validation_data,\n",
    "    test_data)``. Based on ``load_data``, but the format is more\n",
    "    convenient for use in our implementation of neural networks.\n",
    "    In particular, ``training_data`` is a list containing 50,000\n",
    "    2-tuples ``(x, y)``.  ``x`` is a 784-dimensional numpy.ndarray\n",
    "    containing the input image.  ``y`` is a 10-dimensional\n",
    "    numpy.ndarray representing the unit vector corresponding to the\n",
    "    correct digit for ``x``.\n",
    "    ``validation_data`` and ``test_data`` are lists containing 10,000\n",
    "    2-tuples ``(x, y)``.  In each case, ``x`` is a 784-dimensional\n",
    "    numpy.ndarry containing the input image, and ``y`` is the\n",
    "    corresponding classification, i.e., the digit values (integers)\n",
    "    corresponding to ``x``.\n",
    "    Obviously, this means we're using slightly different formats for\n",
    "    the training data and the validation / test data.  These formats\n",
    "    turn out to be the most convenient for use in our neural network\n",
    "    code.\"\"\"\n",
    "    tr_d, va_d, te_d = load_data()\n",
    "    training_inputs = [np.reshape(x, (784, 1)) for x in tr_d[0]]\n",
    "    training_results = [vectorized_result(y) for y in tr_d[1]]\n",
    "    training_data = zip(training_inputs, training_results)\n",
    "    validation_inputs = [np.reshape(x, (784, 1)) for x in va_d[0]]\n",
    "    validation_data = zip(validation_inputs, va_d[1])\n",
    "    test_inputs = [np.reshape(x, (784, 1)) for x in te_d[0]]\n",
    "    test_data = zip(test_inputs, te_d[1])\n",
    "    return (training_data, validation_data, test_data)\n",
    "    #return (list(training_data), list(validation_data), list(test_data))\n",
    "\n",
    "def vectorized_result(j):\n",
    "    \"\"\"Return a 10-dimensional unit vector with a 1.0 in the jth\n",
    "    position and zeroes elsewhere.  This is used to convert a digit\n",
    "    (0...9) into a corresponding desired output from the neural\n",
    "    network.\"\"\"\n",
    "    e = np.zeros((10, 1))\n",
    "    e[j] = 1.0\n",
    "    return e"
   ]
  },
  {
   "cell_type": "markdown",
   "metadata": {},
   "source": [
    "# Step 2: Load (and split) the MNIST dataset"
   ]
  },
  {
   "cell_type": "code",
   "execution_count": 7,
   "metadata": {},
   "outputs": [],
   "source": [
    "# Load the dataset\n",
    "training_data, validation_data, test_data = load_data_wrapper()\n",
    "training_data, validation_data, test_data = list(training_data), list(validation_data), list(test_data)"
   ]
  },
  {
   "cell_type": "code",
   "execution_count": 8,
   "metadata": {},
   "outputs": [
    {
     "data": {
      "text/plain": [
       "(50000, 2)"
      ]
     },
     "execution_count": 8,
     "metadata": {},
     "output_type": "execute_result"
    }
   ],
   "source": [
    "np.shape(training_data)"
   ]
  },
  {
   "cell_type": "code",
   "execution_count": 9,
   "metadata": {},
   "outputs": [
    {
     "data": {
      "text/plain": [
       "(10000, 2)"
      ]
     },
     "execution_count": 9,
     "metadata": {},
     "output_type": "execute_result"
    }
   ],
   "source": [
    "np.shape(validation_data)"
   ]
  },
  {
   "cell_type": "code",
   "execution_count": 10,
   "metadata": {},
   "outputs": [
    {
     "data": {
      "text/plain": [
       "(10000, 2)"
      ]
     },
     "execution_count": 10,
     "metadata": {},
     "output_type": "execute_result"
    }
   ],
   "source": [
    "np.shape(test_data)"
   ]
  },
  {
   "cell_type": "code",
   "execution_count": 11,
   "metadata": {},
   "outputs": [
    {
     "name": "stdout",
     "output_type": "stream",
     "text": [
      "Saving figure digit_sample_plot\n"
     ]
    },
    {
     "data": {
      "image/png": "[encoded data removed]",
      "text/plain": [
       "<Figure size 432x288 with 1 Axes>"
      ]
     },
     "metadata": {
      "needs_background": "light"
     },
     "output_type": "display_data"
    }
   ],
   "source": [
    "# Plot a random digit sample\n",
    "some_digit_index = 37500\n",
    "some_digit = training_data[some_digit_index][0]     # [0] Digit data, [1] Digit label\n",
    "some_digit_image = np.reshape(some_digit,(28, 28))\n",
    "plt.imshow(some_digit_image, cmap = matplotlib.cm.binary, interpolation=\"nearest\")\n",
    "\n",
    "plt.title(\"Digit Sample Plot\")\n",
    "#plt.axis(\"off\")\n",
    "\n",
    "save_fig(\"digit_sample_plot\")\n",
    "plt.show()"
   ]
  },
  {
   "cell_type": "code",
   "execution_count": 12,
   "metadata": {},
   "outputs": [
    {
     "data": {
      "text/plain": [
       "array([[0.],\n",
       "       [0.],\n",
       "       [0.],\n",
       "       [0.],\n",
       "       [0.],\n",
       "       [0.],\n",
       "       [0.],\n",
       "       [1.],\n",
       "       [0.],\n",
       "       [0.]])"
      ]
     },
     "execution_count": 12,
     "metadata": {},
     "output_type": "execute_result"
    }
   ],
   "source": [
    "training_data[some_digit_index][1]"
   ]
  },
  {
   "cell_type": "code",
   "execution_count": 13,
   "metadata": {},
   "outputs": [
    {
     "name": "stdout",
     "output_type": "stream",
     "text": [
      "The ground truth label for the sample digit above is:  7\n"
     ]
    }
   ],
   "source": [
    "# Print the sample digit's label\n",
    "print('The ground truth label for the sample digit above is: ', np.argmax(training_data[some_digit_index][1], axis=0)[0])"
   ]
  },
  {
   "cell_type": "markdown",
   "metadata": {},
   "source": [
    "### Shared Configuration of Neural Networks"
   ]
  },
  {
   "cell_type": "code",
   "execution_count": 14,
   "metadata": {},
   "outputs": [],
   "source": [
    "epochs = 30\n",
    "mini_batch_size = 10\n",
    "eta = 3.0"
   ]
  },
  {
   "cell_type": "markdown",
   "metadata": {},
   "source": [
    "# Step 3: Set up the First Network with Three Layers "
   ]
  },
  {
   "cell_type": "markdown",
   "metadata": {},
   "source": [
    "Input layer: 784 neurons<br>\n",
    "Hidden layer: 30 neurons<br>\n",
    "Output layer: 10 neurons"
   ]
  },
  {
   "cell_type": "code",
   "execution_count": 15,
   "metadata": {},
   "outputs": [],
   "source": [
    "# Create a neural network\n",
    "net1 = Network([784, 30, 10])"
   ]
  },
  {
   "cell_type": "markdown",
   "metadata": {},
   "source": [
    "# Step 4: Train the network using SGD  "
   ]
  },
  {
   "cell_type": "markdown",
   "metadata": {},
   "source": [
    "30 epochs, mini-batch size = 10, and eta = 3.0"
   ]
  },
  {
   "cell_type": "code",
   "execution_count": 16,
   "metadata": {},
   "outputs": [
    {
     "name": "stdout",
     "output_type": "stream",
     "text": [
      "Epoch 0 : 9078 / 10000\n",
      "Epoch 1 : 9225 / 10000\n",
      "Epoch 2 : 9290 / 10000\n",
      "Epoch 3 : 9341 / 10000\n",
      "Epoch 4 : 9372 / 10000\n",
      "Epoch 5 : 9434 / 10000\n",
      "Epoch 6 : 9407 / 10000\n",
      "Epoch 7 : 9442 / 10000\n",
      "Epoch 8 : 9456 / 10000\n",
      "Epoch 9 : 9473 / 10000\n",
      "Epoch 10 : 9464 / 10000\n",
      "Epoch 11 : 9485 / 10000\n",
      "Epoch 12 : 9478 / 10000\n",
      "Epoch 13 : 9481 / 10000\n",
      "Epoch 14 : 9477 / 10000\n",
      "Epoch 15 : 9468 / 10000\n",
      "Epoch 16 : 9473 / 10000\n",
      "Epoch 17 : 9479 / 10000\n",
      "Epoch 18 : 9487 / 10000\n",
      "Epoch 19 : 9505 / 10000\n",
      "Epoch 20 : 9507 / 10000\n",
      "Epoch 21 : 9492 / 10000\n",
      "Epoch 22 : 9491 / 10000\n",
      "Epoch 23 : 9491 / 10000\n",
      "Epoch 24 : 9511 / 10000\n",
      "Epoch 25 : 9530 / 10000\n",
      "Epoch 26 : 9505 / 10000\n",
      "Epoch 27 : 9513 / 10000\n",
      "Epoch 28 : 9511 / 10000\n",
      "Epoch 29 : 9522 / 10000\n"
     ]
    }
   ],
   "source": [
    "# Configure and train the neural network\n",
    "net1_learning_curve = net1.SGD(training_data, epochs, mini_batch_size, eta, test_data=test_data)"
   ]
  },
  {
   "cell_type": "code",
   "execution_count": 17,
   "metadata": {},
   "outputs": [
    {
     "data": {
      "image/png": "[encoded data removed]",
      "text/plain": [
       "<Figure size 432x288 with 1 Axes>"
      ]
     },
     "metadata": {
      "needs_background": "light"
     },
     "output_type": "display_data"
    }
   ],
   "source": [
    "# Plot the Learning Curve for Net1\n",
    "x_value = np.arange(0, len(net1_learning_curve), 1)\n",
    "plt.plot(x_value, net1_learning_curve)\n",
    "plt.title(\"Net1 Learning Curve\")\n",
    "plt.xlabel('Epoch')\n",
    "plt.ylabel('Accuracy')\n",
    "plt.show()"
   ]
  },
  {
   "cell_type": "markdown",
   "metadata": {},
   "source": [
    "# Step 5: Set up the Second Network with Three Layers "
   ]
  },
  {
   "cell_type": "markdown",
   "metadata": {},
   "source": [
    "Input layer: 784 neurons<br>\n",
    "Hidden layer: 100 neurons<br>\n",
    "Output layer: 10 neurons"
   ]
  },
  {
   "cell_type": "code",
   "execution_count": 18,
   "metadata": {},
   "outputs": [],
   "source": [
    "# Create a neural network\n",
    "net2 = Network([784, 100, 10])"
   ]
  },
  {
   "cell_type": "markdown",
   "metadata": {},
   "source": [
    "# Step 6: Train the network using SGD  "
   ]
  },
  {
   "cell_type": "markdown",
   "metadata": {},
   "source": [
    "30 epochs, mini-batch size = 10, and eta = 3.0"
   ]
  },
  {
   "cell_type": "code",
   "execution_count": 19,
   "metadata": {},
   "outputs": [
    {
     "name": "stdout",
     "output_type": "stream",
     "text": [
      "Epoch 0 : 8194 / 10000\n",
      "Epoch 1 : 8384 / 10000\n",
      "Epoch 2 : 8426 / 10000\n",
      "Epoch 3 : 8472 / 10000\n",
      "Epoch 4 : 8538 / 10000\n",
      "Epoch 5 : 8550 / 10000\n",
      "Epoch 6 : 8586 / 10000\n",
      "Epoch 7 : 8598 / 10000\n",
      "Epoch 8 : 8594 / 10000\n",
      "Epoch 9 : 8610 / 10000\n",
      "Epoch 10 : 8617 / 10000\n",
      "Epoch 11 : 8638 / 10000\n",
      "Epoch 12 : 8641 / 10000\n",
      "Epoch 13 : 8635 / 10000\n",
      "Epoch 14 : 8650 / 10000\n",
      "Epoch 15 : 8650 / 10000\n",
      "Epoch 16 : 8662 / 10000\n",
      "Epoch 17 : 8675 / 10000\n",
      "Epoch 18 : 8651 / 10000\n",
      "Epoch 19 : 8678 / 10000\n",
      "Epoch 20 : 8659 / 10000\n",
      "Epoch 21 : 8684 / 10000\n",
      "Epoch 22 : 8663 / 10000\n",
      "Epoch 23 : 8683 / 10000\n",
      "Epoch 24 : 8716 / 10000\n",
      "Epoch 25 : 9602 / 10000\n",
      "Epoch 26 : 9596 / 10000\n",
      "Epoch 27 : 9602 / 10000\n",
      "Epoch 28 : 9620 / 10000\n",
      "Epoch 29 : 9613 / 10000\n"
     ]
    }
   ],
   "source": [
    "# Configure and train the neural network\n",
    "net2_learning_curve = net2.SGD(training_data, epochs, mini_batch_size, eta, test_data=test_data)"
   ]
  },
  {
   "cell_type": "code",
   "execution_count": 20,
   "metadata": {},
   "outputs": [
    {
     "data": {
      "image/png": "[encoded data removed]",
      "text/plain": [
       "<Figure size 432x288 with 1 Axes>"
      ]
     },
     "metadata": {
      "needs_background": "light"
     },
     "output_type": "display_data"
    }
   ],
   "source": [
    "# Plot the Learning Curve for Net2\n",
    "x_value = np.arange(0, len(net2_learning_curve), 1)\n",
    "plt.plot(x_value, net2_learning_curve)\n",
    "plt.title(\"Net2 Learning Curve\")\n",
    "plt.xlabel('Epoch')\n",
    "plt.ylabel('Accuracy')\n",
    "plt.show()"
   ]
  },
  {
   "cell_type": "markdown",
   "metadata": {},
   "source": [
    "# Step 7: Set up Third network with Only Two Layers "
   ]
  },
  {
   "cell_type": "markdown",
   "metadata": {},
   "source": [
    "Input layer: 784 neurons<br>\n",
    "Output layer: 10 neurons"
   ]
  },
  {
   "cell_type": "code",
   "execution_count": 21,
   "metadata": {},
   "outputs": [],
   "source": [
    "## Create a neural network\n",
    "net3 = Network([784, 10])"
   ]
  },
  {
   "cell_type": "markdown",
   "metadata": {},
   "source": [
    "# Step 8: Train the network using SGD  "
   ]
  },
  {
   "cell_type": "markdown",
   "metadata": {},
   "source": [
    "30 epochs, mini-batch size = 10, and eta = 3.0"
   ]
  },
  {
   "cell_type": "code",
   "execution_count": 22,
   "metadata": {},
   "outputs": [
    {
     "name": "stdout",
     "output_type": "stream",
     "text": [
      "Epoch 0 : 4038 / 10000\n",
      "Epoch 1 : 4812 / 10000\n",
      "Epoch 2 : 4875 / 10000\n",
      "Epoch 3 : 4892 / 10000\n",
      "Epoch 4 : 4864 / 10000\n",
      "Epoch 5 : 4945 / 10000\n",
      "Epoch 6 : 5828 / 10000\n",
      "Epoch 7 : 6096 / 10000\n",
      "Epoch 8 : 7231 / 10000\n",
      "Epoch 9 : 7326 / 10000\n",
      "Epoch 10 : 7334 / 10000\n",
      "Epoch 11 : 7327 / 10000\n",
      "Epoch 12 : 7350 / 10000\n",
      "Epoch 13 : 7345 / 10000\n",
      "Epoch 14 : 7358 / 10000\n",
      "Epoch 15 : 7370 / 10000\n",
      "Epoch 16 : 7383 / 10000\n",
      "Epoch 17 : 7383 / 10000\n",
      "Epoch 18 : 7354 / 10000\n",
      "Epoch 19 : 7388 / 10000\n",
      "Epoch 20 : 7392 / 10000\n",
      "Epoch 21 : 7407 / 10000\n",
      "Epoch 22 : 7399 / 10000\n",
      "Epoch 23 : 7407 / 10000\n",
      "Epoch 24 : 7426 / 10000\n",
      "Epoch 25 : 7433 / 10000\n",
      "Epoch 26 : 7433 / 10000\n",
      "Epoch 27 : 7434 / 10000\n",
      "Epoch 28 : 7431 / 10000\n",
      "Epoch 29 : 7448 / 10000\n"
     ]
    }
   ],
   "source": [
    "# Configure and train the neural network\n",
    "net3_learning_curve = net3.SGD(training_data, epochs, mini_batch_size, eta, test_data=test_data)"
   ]
  },
  {
   "cell_type": "code",
   "execution_count": 23,
   "metadata": {},
   "outputs": [
    {
     "data": {
      "image/png": "[encoded data removed]",
      "text/plain": [
       "<Figure size 432x288 with 1 Axes>"
      ]
     },
     "metadata": {
      "needs_background": "light"
     },
     "output_type": "display_data"
    }
   ],
   "source": [
    "# Plot the Learning Curve for Net2\n",
    "x_value = np.arange(0, len(net3_learning_curve), 1)\n",
    "plt.plot(x_value, net3_learning_curve)\n",
    "plt.title(\"Net3 Learning Curve\")\n",
    "plt.xlabel('Epoch')\n",
    "plt.ylabel('Accuracy')\n",
    "plt.show()"
   ]
  },
  {
   "cell_type": "markdown",
   "metadata": {},
   "source": [
    "# Step 9: Classification using MLP Classifier from scikit-learn"
   ]
  },
  {
   "cell_type": "code",
   "execution_count": 24,
   "metadata": {},
   "outputs": [],
   "source": [
    "# Load the same data but with the load_data() method instead of the load_data_wrapper()\n",
    "training_data, validation_data, test_data = load_data()\n",
    "X_train, y_train = training_data\n",
    "X_test, y_test = test_data"
   ]
  },
  {
   "cell_type": "code",
   "execution_count": 25,
   "metadata": {},
   "outputs": [
    {
     "data": {
      "text/plain": [
       "MLPClassifier(activation='logistic', alpha=0.0001, batch_size='auto',\n",
       "       beta_1=0.9, beta_2=0.999, early_stopping=False, epsilon=1e-08,\n",
       "       hidden_layer_sizes=(30,), learning_rate='constant',\n",
       "       learning_rate_init=3.0, max_iter=30, momentum=0.9,\n",
       "       n_iter_no_change=10, nesterovs_momentum=True, power_t=0.5,\n",
       "       random_state=None, shuffle=True, solver='sgd', tol=0.0001,\n",
       "       validation_fraction=0.1, verbose=False, warm_start=False)"
      ]
     },
     "execution_count": 25,
     "metadata": {},
     "output_type": "execute_result"
    }
   ],
   "source": [
    "# https://scikit-learn.org/stable/modules/generated/sklearn.neural_network.MLPClassifier.html\n",
    "from sklearn.neural_network import MLPClassifier\n",
    "\n",
    "MLP_clf = MLPClassifier(activation = 'logistic', solver ='sgd', batch_size='auto', \n",
    "                         max_iter = epochs, hidden_layer_sizes=(30,), learning_rate_init = eta)\n",
    "MLP_clf"
   ]
  },
  {
   "cell_type": "code",
   "execution_count": 26,
   "metadata": {},
   "outputs": [],
   "source": [
    "# https://scikit-learn.org/stable/auto_examples/neural_networks/plot_mnist_filters.html\n",
    "# Catch warning and ignore the ConvergenceWarning\n",
    "\n",
    "# Train the classifier\n",
    "with warnings.catch_warnings():\n",
    "    warnings.filterwarnings(\"ignore\", category=ConvergenceWarning,module=\"sklearn\")\n",
    "    MLP_clf.fit(X_train,y_train)"
   ]
  },
  {
   "cell_type": "code",
   "execution_count": 27,
   "metadata": {},
   "outputs": [
    {
     "data": {
      "text/plain": [
       "array([0.89627452, 0.9350213 , 0.93602976])"
      ]
     },
     "execution_count": 27,
     "metadata": {},
     "output_type": "execute_result"
    }
   ],
   "source": [
    "# https://scikit-learn.org/stable/modules/generated/sklearn.model_selection.cross_val_score.html\n",
    "from sklearn.model_selection import cross_val_score\n",
    "\n",
    "# Evaluate a score by cross-validation\n",
    "with warnings.catch_warnings():\n",
    "    warnings.filterwarnings(\"ignore\", category=ConvergenceWarning,module=\"sklearn\")\n",
    "    MLP_cross_val_score = cross_val_score(MLP_clf, X_train, y_train, cv=3, scoring=\"accuracy\")\n",
    "\n",
    "MLP_cross_val_score"
   ]
  },
  {
   "cell_type": "code",
   "execution_count": 28,
   "metadata": {},
   "outputs": [
    {
     "data": {
      "text/plain": [
       "array([[4639,    1,   88,   87,   20,   21,   22,   21,   25,    8],\n",
       "       [  11, 5364,   22,  105,   10,   24,    6,   45,   79,   12],\n",
       "       [1175,   56, 2863,  259,   71,   30,  219,  142,  132,   21],\n",
       "       [  97,   46,  131, 4470,   10,  120,   10,   84,   99,   34],\n",
       "       [  45,   32,   26,    8, 3765,    2,   65,   83,   12,  821],\n",
       "       [ 162,   65,   53, 1431,   45, 2493,   71,   44,  101,   41],\n",
       "       [ 165,   59,   36,   18,   62,   51, 4505,    7,   45,    3],\n",
       "       [  27,   26,   24,   64,   55,   10,    0, 4784,   17,  168],\n",
       "       [  73,  185,   53, 1424,   30,  107,   52,   49, 2753,  116],\n",
       "       [  34,   27,    6,   94,  219,   29,    8,  294,   24, 4253]],\n",
       "      dtype=int64)"
      ]
     },
     "execution_count": 28,
     "metadata": {},
     "output_type": "execute_result"
    }
   ],
   "source": [
    "# https://scikit-learn.org/stable/modules/generated/sklearn.model_selection.cross_val_predict.html\n",
    "# https://scikit-learn.org/stable/modules/generated/sklearn.metrics.confusion_matrix.html\n",
    "from sklearn.model_selection import cross_val_predict\n",
    "from sklearn.metrics import confusion_matrix\n",
    "\n",
    "# Generate cross-validated estimates for each input data point then compute the confusion matrix \n",
    "with warnings.catch_warnings():\n",
    "    warnings.filterwarnings(\"ignore\", category=ConvergenceWarning,module=\"sklearn\")\n",
    "    y_train_pred = cross_val_predict(MLP_clf, X_train, y_train, cv=3)   \n",
    "    \n",
    "conf_mx = confusion_matrix(y_train, y_train_pred)\n",
    "conf_mx"
   ]
  },
  {
   "cell_type": "code",
   "execution_count": 29,
   "metadata": {},
   "outputs": [
    {
     "name": "stdout",
     "output_type": "stream",
     "text": [
      "Saving figure confusion_matrix_MLPClassifier\n"
     ]
    },
    {
     "data": {
      "image/png": "[encoded data removed]",
      "text/plain": [
       "<Figure size 288x288 with 1 Axes>"
      ]
     },
     "metadata": {
      "needs_background": "light"
     },
     "output_type": "display_data"
    }
   ],
   "source": [
    "# Plot the result confusion matrix\n",
    "plt.matshow(conf_mx, cmap=plt.cm.gray)\n",
    "save_fig(\"confusion_matrix_MLPClassifier\", tight_layout=False)\n",
    "plt.show()"
   ]
  },
  {
   "cell_type": "code",
   "execution_count": 30,
   "metadata": {},
   "outputs": [
    {
     "name": "stdout",
     "output_type": "stream",
     "text": [
      "Saving figure confusion_matrix_errors_MLPClassifier\n"
     ]
    },
    {
     "data": {
      "image/png": "[encoded data removed]",
      "text/plain": [
       "<Figure size 288x288 with 1 Axes>"
      ]
     },
     "metadata": {
      "needs_background": "light"
     },
     "output_type": "display_data"
    }
   ],
   "source": [
    "# Plot the confusion matrix errors (the lighter the block, the more errors)\n",
    "row_sums = conf_mx.sum(axis=1, keepdims=True)\n",
    "norm_conf_mx = conf_mx / row_sums\n",
    "\n",
    "np.fill_diagonal(norm_conf_mx, 0)\n",
    "plt.matshow(norm_conf_mx, cmap=plt.cm.gray)\n",
    "save_fig(\"confusion_matrix_errors_MLPClassifier\", tight_layout=False)\n",
    "plt.show()"
   ]
  },
  {
   "cell_type": "code",
   "execution_count": 31,
   "metadata": {},
   "outputs": [
    {
     "name": "stdout",
     "output_type": "stream",
     "text": [
      "Accuracy score for the MLP Classifier is 0.826\n"
     ]
    }
   ],
   "source": [
    "# Evaluate accuracy on test set\n",
    "y_pred = MLP_clf.predict(X_test)\n",
    "MLPClassifier_score = MLP_clf.score(X_test,y_test)\n",
    "print(\"Accuracy score for the MLP Classifier is\", MLPClassifier_score)"
   ]
  },
  {
   "cell_type": "markdown",
   "metadata": {},
   "source": [
    "### Data Normalization / Standardization"
   ]
  },
  {
   "cell_type": "code",
   "execution_count": 32,
   "metadata": {},
   "outputs": [],
   "source": [
    "# https://scikit-learn.org/stable/modules/generated/sklearn.preprocessing.StandardScaler.html\n",
    "from sklearn.preprocessing import StandardScaler\n",
    "\n",
    "# Standardize features by removing the mean and scaling to unit variance\n",
    "scaler = StandardScaler()\n",
    "X_train_scaled = scaler.fit_transform(X_train.astype(np.float64))\n",
    "X_test_scaled = scaler.transform(X_test.astype(np.float64))\n",
    "\n",
    "# Same network configurations as the previous section\n",
    "standardized_MLPClassifier = MLPClassifier(activation = 'logistic', solver ='sgd', batch_size='auto', \n",
    "                                           max_iter = epochs, hidden_layer_sizes=(30,), learning_rate_init = eta)\n",
    "\n",
    "with warnings.catch_warnings():\n",
    "    warnings.filterwarnings(\"ignore\", category=ConvergenceWarning,module=\"sklearn\")\n",
    "    standardized_MLPClassifier.fit(X_train_scaled, y_train)"
   ]
  },
  {
   "cell_type": "code",
   "execution_count": 33,
   "metadata": {},
   "outputs": [
    {
     "data": {
      "text/plain": [
       "array([0.92057112, 0.92116158, 0.91484638])"
      ]
     },
     "execution_count": 33,
     "metadata": {},
     "output_type": "execute_result"
    }
   ],
   "source": [
    "# Evaluate a score by cross-validation\n",
    "with warnings.catch_warnings():\n",
    "    warnings.filterwarnings(\"ignore\", category=ConvergenceWarning,module=\"sklearn\")\n",
    "    standardized_MLP_cv_score = cross_val_score(standardized_MLPClassifier, X_train_scaled, y_train, cv=3, scoring=\"accuracy\")\n",
    "    \n",
    "standardized_MLP_cv_score"
   ]
  },
  {
   "cell_type": "code",
   "execution_count": 34,
   "metadata": {},
   "outputs": [
    {
     "data": {
      "text/plain": [
       "array([[4755,    2,   27,   15,    5,   40,   36,    7,   32,   13],\n",
       "       [   1, 5491,   38,   27,    5,   11,   15,   16,   67,    7],\n",
       "       [  39,   42, 4561,   68,   29,   23,   66,   49,   76,   15],\n",
       "       [  23,   32,  158, 4498,    5,  156,    8,   65,  124,   32],\n",
       "       [   9,   13,   45,    9, 4468,   11,   46,   39,   25,  194],\n",
       "       [  52,   23,   32,  157,   29, 3985,   70,   12,   99,   47],\n",
       "       [  59,   18,   58,    4,   35,   55, 4674,    4,   41,    3],\n",
       "       [  20,   28,   72,   26,   49,   14,    4, 4817,   21,  124],\n",
       "       [  38,   79,   94,  111,   36,  128,   42,   30, 4212,   72],\n",
       "       [  32,    8,   15,   58,  177,   42,    3,  260,   63, 4330]],\n",
       "      dtype=int64)"
      ]
     },
     "execution_count": 34,
     "metadata": {},
     "output_type": "execute_result"
    }
   ],
   "source": [
    "# Generate cross-validated estimates for each input data point then compute the confusion matrix \n",
    "with warnings.catch_warnings():\n",
    "    warnings.filterwarnings(\"ignore\", category=ConvergenceWarning,module=\"sklearn\")\n",
    "    y_train_pred = cross_val_predict(standardized_MLPClassifier, X_train_scaled, y_train, cv=3) \n",
    "    \n",
    "conf_mx = confusion_matrix(y_train, y_train_pred)\n",
    "conf_mx"
   ]
  },
  {
   "cell_type": "code",
   "execution_count": 35,
   "metadata": {},
   "outputs": [
    {
     "name": "stdout",
     "output_type": "stream",
     "text": [
      "Accuracy score for the MLP Classifier with data normalization/standardization 0.9339\n"
     ]
    }
   ],
   "source": [
    "# https://scikit-learn.org/stable/modules/generated/sklearn.metrics.accuracy_score.html\n",
    "from sklearn.metrics import accuracy_score\n",
    "\n",
    "# Evaluate accuracy on test set for the normalized/standardized\n",
    "y_pred_scaled = standardized_MLPClassifier.predict(X_test_scaled)\n",
    "MLPClassifier_STANDARDIZED_score = accuracy_score(y_test, y_pred_scaled)\n",
    "print(\"Accuracy score for the MLP Classifier with data normalization/standardization\", MLPClassifier_STANDARDIZED_score) "
   ]
  },
  {
   "cell_type": "markdown",
   "metadata": {},
   "source": [
    "### Hyperparameters Optimization "
   ]
  },
  {
   "cell_type": "code",
   "execution_count": 36,
   "metadata": {},
   "outputs": [],
   "source": [
    "# https://scikit-learn.org/stable/modules/generated/sklearn.neural_network.MLPClassifier.html\n",
    "\n",
    "# Chosen parameters for optimization\n",
    "parameters = {'hidden_layer_sizes': [(30,),(100,)],\n",
    "              'activation': ['logistic', 'relu'], \n",
    "              'learning_rate': ['constant', 'adaptive'],\n",
    "              'alpha': [0.0001, 0.05]}"
   ]
  },
  {
   "cell_type": "code",
   "execution_count": 37,
   "metadata": {},
   "outputs": [
    {
     "data": {
      "text/plain": [
       "GridSearchCV(cv=3, error_score='raise-deprecating',\n",
       "       estimator=MLPClassifier(activation='logistic', alpha=0.0001, batch_size='auto',\n",
       "       beta_1=0.9, beta_2=0.999, early_stopping=False, epsilon=1e-08,\n",
       "       hidden_layer_sizes=(30,), learning_rate='constant',\n",
       "       learning_rate_init=3.0, max_iter=30, momentum=0.9,\n",
       "       n_iter_no_change=10, nesterovs_momentum=True, power_t=0.5,\n",
       "       random_state=None, shuffle=True, solver='sgd', tol=0.0001,\n",
       "       validation_fraction=0.1, verbose=False, warm_start=False),\n",
       "       fit_params=None, iid='warn', n_jobs=None,\n",
       "       param_grid={'hidden_layer_sizes': [(30,), (100,)], 'activation': ['logistic', 'relu'], 'learning_rate': ['constant', 'adaptive'], 'alpha': [0.0001, 0.05]},\n",
       "       pre_dispatch='2*n_jobs', refit=True, return_train_score='warn',\n",
       "       scoring='accuracy', verbose=0)"
      ]
     },
     "execution_count": 37,
     "metadata": {},
     "output_type": "execute_result"
    }
   ],
   "source": [
    "            ###  Exhaustive Grid Search ###\n",
    "\n",
    "# https://scikit-learn.org/stable/modules/generated/sklearn.model_selection.GridSearchCV.html\n",
    "from sklearn.model_selection import GridSearchCV\n",
    "\n",
    "MLPClassifier_GridSearchCV = GridSearchCV(MLP_clf, parameters, scoring='accuracy', cv=3)\n",
    "MLPClassifier_GridSearchCV"
   ]
  },
  {
   "cell_type": "code",
   "execution_count": 38,
   "metadata": {},
   "outputs": [],
   "source": [
    "# Train the Classifier\n",
    "with warnings.catch_warnings():\n",
    "    warnings.filterwarnings(\"ignore\", category=ConvergenceWarning,module=\"sklearn\")\n",
    "    MLPClassifier_GridSearchCV.fit(X_train, y_train)"
   ]
  },
  {
   "cell_type": "code",
   "execution_count": 39,
   "metadata": {},
   "outputs": [
    {
     "name": "stdout",
     "output_type": "stream",
     "text": [
      "Best parameters set found on development set: {'activation': 'logistic', 'alpha': 0.05, 'hidden_layer_sizes': (100,), 'learning_rate': 'constant'}\n",
      "\n",
      "Grid scores on development set:\n",
      "0.905 (+/-0.053) for {'activation': 'logistic', 'alpha': 0.0001, 'hidden_layer_sizes': (30,), 'learning_rate': 'constant'}\n",
      "0.919 (+/-0.027) for {'activation': 'logistic', 'alpha': 0.0001, 'hidden_layer_sizes': (30,), 'learning_rate': 'adaptive'}\n",
      "0.516 (+/-0.641) for {'activation': 'logistic', 'alpha': 0.0001, 'hidden_layer_sizes': (100,), 'learning_rate': 'constant'}\n",
      "0.379 (+/-0.672) for {'activation': 'logistic', 'alpha': 0.0001, 'hidden_layer_sizes': (100,), 'learning_rate': 'adaptive'}\n",
      "0.938 (+/-0.008) for {'activation': 'logistic', 'alpha': 0.05, 'hidden_layer_sizes': (30,), 'learning_rate': 'constant'}\n",
      "0.926 (+/-0.016) for {'activation': 'logistic', 'alpha': 0.05, 'hidden_layer_sizes': (30,), 'learning_rate': 'adaptive'}\n",
      "0.946 (+/-0.009) for {'activation': 'logistic', 'alpha': 0.05, 'hidden_layer_sizes': (100,), 'learning_rate': 'constant'}\n",
      "0.944 (+/-0.010) for {'activation': 'logistic', 'alpha': 0.05, 'hidden_layer_sizes': (100,), 'learning_rate': 'adaptive'}\n",
      "0.105 (+/-0.012) for {'activation': 'relu', 'alpha': 0.0001, 'hidden_layer_sizes': (30,), 'learning_rate': 'constant'}\n",
      "0.108 (+/-0.015) for {'activation': 'relu', 'alpha': 0.0001, 'hidden_layer_sizes': (30,), 'learning_rate': 'adaptive'}\n",
      "0.098 (+/-0.002) for {'activation': 'relu', 'alpha': 0.0001, 'hidden_layer_sizes': (100,), 'learning_rate': 'constant'}\n",
      "0.105 (+/-0.013) for {'activation': 'relu', 'alpha': 0.0001, 'hidden_layer_sizes': (100,), 'learning_rate': 'adaptive'}\n",
      "0.109 (+/-0.013) for {'activation': 'relu', 'alpha': 0.05, 'hidden_layer_sizes': (30,), 'learning_rate': 'constant'}\n",
      "0.096 (+/-0.008) for {'activation': 'relu', 'alpha': 0.05, 'hidden_layer_sizes': (30,), 'learning_rate': 'adaptive'}\n",
      "0.101 (+/-0.003) for {'activation': 'relu', 'alpha': 0.05, 'hidden_layer_sizes': (100,), 'learning_rate': 'constant'}\n",
      "0.104 (+/-0.014) for {'activation': 'relu', 'alpha': 0.05, 'hidden_layer_sizes': (100,), 'learning_rate': 'adaptive'}\n"
     ]
    }
   ],
   "source": [
    "# https://scikit-learn.org/stable/auto_examples/model_selection/plot_grid_search_digits.html\n",
    "\n",
    "print(\"Best parameters set found on development set:\", MLPClassifier_GridSearchCV.best_params_)\n",
    "\n",
    "print(\"\\nGrid scores on development set:\")\n",
    "means = MLPClassifier_GridSearchCV.cv_results_['mean_test_score']\n",
    "stds = MLPClassifier_GridSearchCV.cv_results_['std_test_score']\n",
    "\n",
    "for mean, std, params in zip(means, stds, MLPClassifier_GridSearchCV.cv_results_['params']):\n",
    "    print(\"%0.3f (+/-%0.03f) for %r\" % (mean, std * 2, params))"
   ]
  },
  {
   "cell_type": "markdown",
   "metadata": {},
   "source": [
    "### MLP Classifier with Normalization/Standardization and Hyperparameters Optimization"
   ]
  },
  {
   "cell_type": "code",
   "execution_count": 40,
   "metadata": {},
   "outputs": [],
   "source": [
    "# https://scikit-learn.org/stable/modules/generated/sklearn.pipeline.Pipeline.html\n",
    "from sklearn.pipeline import Pipeline\n",
    "\n",
    "MLPClassifier_BEST_pipe = Pipeline([('scaler', StandardScaler()),\n",
    "                                   ('mlpc', MLPClassifier(**MLPClassifier_GridSearchCV.best_params_))])\n",
    "\n",
    "# Train the classifier\n",
    "with warnings.catch_warnings():\n",
    "    warnings.filterwarnings(\"ignore\", category=ConvergenceWarning,module=\"sklearn\")\n",
    "    MLPClassifier_BEST_pipe.fit(X_train, y_train)\n",
    "\n",
    "# Note: 'MLPClassifier_GridSearchCV.best_params_' come from Hyperparameters Optimization section\n",
    "#        StandardScaler is in the Pipeline already "
   ]
  },
  {
   "cell_type": "code",
   "execution_count": 41,
   "metadata": {},
   "outputs": [
    {
     "name": "stdout",
     "output_type": "stream",
     "text": [
      "Accuracy score for the MLP Classifier with normalization/standardization\n",
      "and hyperparameters otimization:\t 0.974\n"
     ]
    }
   ],
   "source": [
    "# Get the score for the classifier\n",
    "MLPClassifier_BEST_score = MLPClassifier_BEST_pipe.score(X_test, y_test)\n",
    "print(\"Accuracy score for the MLP Classifier with normalization/standardization\")\n",
    "print(\"and hyperparameters otimization:\\t\", MLPClassifier_BEST_score)"
   ]
  },
  {
   "cell_type": "markdown",
   "metadata": {},
   "source": [
    "### Classifiers Results"
   ]
  },
  {
   "cell_type": "code",
   "execution_count": 42,
   "metadata": {},
   "outputs": [
    {
     "name": "stdout",
     "output_type": "stream",
     "text": [
      "MLP Classifier accuracy score:  0.826\n",
      "MLP Classifier with data normalization/standardization accuracy score: 0.9339\n",
      "MLP Classifier with normalization/standardization and hyperparameters \n",
      "optimization accuracy score: 0.974\n"
     ]
    }
   ],
   "source": [
    "# Results of different classifiers\n",
    "print(\"MLP Classifier accuracy score: \", MLPClassifier_score)\n",
    "print(\"MLP Classifier with data normalization/standardization accuracy score:\", MLPClassifier_STANDARDIZED_score) \n",
    "print(\"MLP Classifier with normalization/standardization and hyperparameters \")\n",
    "print(\"optimization accuracy score:\" , MLPClassifier_BEST_score)"
   ]
  }
 ],
 "metadata": {
  "kernelspec": {
   "display_name": "Python 3",
   "language": "python",
   "name": "python3"
  },
  "language_info": {
   "codemirror_mode": {
    "name": "ipython",
    "version": 3
   },
   "file_extension": ".py",
   "mimetype": "text/x-python",
   "name": "python",
   "nbconvert_exporter": "python",
   "pygments_lexer": "ipython3",
   "version": "3.7.3"
  },
  "nav_menu": {},
  "toc": {
   "navigate_menu": true,
   "number_sections": true,
   "sideBar": true,
   "threshold": 6,
   "toc_cell": false,
   "toc_section_display": "block",
   "toc_window_display": false
  }
 },
 "nbformat": 4,
 "nbformat_minor": 1
}
